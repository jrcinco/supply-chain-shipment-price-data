{
 "cells": [
  {
   "cell_type": "markdown",
   "metadata": {
    "_cell_guid": "b1076dfc-b9ad-4769-8c92-a6c4dae69d19",
    "_uuid": "8f2839f25d086af736a60e9eeb907d3b93b6e0e5"
   },
   "source": [
    "# **Supply Chain Shipment Pricing Data - Data Analysis and Modeling**\n",
    "\n",
    "Dataset Description: This data set provides supply chain health commodity shipment and pricing data. \n",
    "\n",
    "**File Descriptions**\n",
    "\n",
    "Item|Description\n",
    "---|---\n",
    "**File Name :**|SCMS_Delivery_History_Dataset.csv\n",
    "**File Size :**|Approx. 570kb\n",
    "**Total Records :**|10,324\n",
    "**File Updated :**|February 24, 2016\n",
    "\n",
    "## Following are steps for Data Analysis and Modeling\n",
    "\n",
    "* Import Packages\n",
    "* Import CSV file\n",
    "* Check Total Records in CSV file\n",
    "* Check DataType of CSV file\n",
    "* Rename columns\n",
    "* Print first 5 and last 5 recods from DataSet\n",
    "* Total 16 Country wise count with graph\n",
    "* Shipment Mode percentage wise Pie Chart\n",
    "* Modeling\n",
    "* Conclusion\n",
    "\n",
    "\n",
    "# Import Packages"
   ]
  },
  {
   "cell_type": "code",
   "execution_count": 105,
   "metadata": {
    "_cell_guid": "79c7e3d0-c299-4dcb-8224-4455121ee9b0",
    "_uuid": "d629ff2d2480ee46fbb7e2d37f6b5fab8052498a",
    "scrolled": true
   },
   "outputs": [
    {
     "data": {
      "text/html": [
       "        <script type=\"text/javascript\">\n",
       "        window.PlotlyConfig = {MathJaxConfig: 'local'};\n",
       "        if (window.MathJax) {MathJax.Hub.Config({SVG: {font: \"STIX-Web\"}});}\n",
       "        if (typeof require !== 'undefined') {\n",
       "        require.undef(\"plotly\");\n",
       "        requirejs.config({\n",
       "            paths: {\n",
       "                'plotly': ['https://cdn.plot.ly/plotly-latest.min']\n",
       "            }\n",
       "        });\n",
       "        require(['plotly'], function(Plotly) {\n",
       "            window._Plotly = Plotly;\n",
       "        });\n",
       "        }\n",
       "        </script>\n",
       "        "
      ]
     },
     "metadata": {},
     "output_type": "display_data"
    }
   ],
   "source": [
    "import os\n",
    "\n",
    "import pandas as pd\n",
    "import numpy as np\n",
    "from decimal import Decimal\n",
    "from IPython.display import Image\n",
    "import re\n",
    "\n",
    "import matplotlib.pyplot as plt\n",
    "%matplotlib inline\n",
    "import seaborn as sn\n",
    "\n",
    "import plotly.graph_objs as go\n",
    "import plotly.offline as py\n",
    "py.init_notebook_mode(connected=True)\n",
    "pd.options.mode.chained_assignment = None\n",
    "pd.options.display.max_columns = 9999\n",
    "pd.options.display.float_format = '{:20,.2f}'.format\n",
    "\n",
    "from sklearn import metrics\n",
    "from sklearn import tree\n",
    "from sklearn.model_selection import train_test_split\n",
    "from sklearn.tree import DecisionTreeRegressor\n",
    "from sklearn.ensemble import RandomForestRegressor\n",
    "\n",
    "export_flag = False\n",
    "if export_flag:\n",
    "    import chart_studio\n",
    "    chart_studio.tools.set_credentials_file(username='jr.cinco5', api_key='9197r3roMkAbXG3iwTy3')"
   ]
  },
  {
   "cell_type": "markdown",
   "metadata": {
    "_uuid": "71aff9793ec4220f61722ce6750ea88688b1e04f"
   },
   "source": [
    "# Import CSV file"
   ]
  },
  {
   "cell_type": "code",
   "execution_count": 106,
   "metadata": {
    "_uuid": "59c9c01f73b9391369d37df9df5880c52fbe18c0"
   },
   "outputs": [],
   "source": [
    "DataSet = pd.read_csv('SCMS_Delivery_History_Dataset.csv').fillna('no_value')"
   ]
  },
  {
   "cell_type": "markdown",
   "metadata": {
    "_uuid": "5ea6850940dafe0c63d0c6e045b6c2b2f3dc3fc0"
   },
   "source": [
    "# Check Total Records in CSV file"
   ]
  },
  {
   "cell_type": "code",
   "execution_count": 107,
   "metadata": {
    "_uuid": "b83d1ff41528376e4a2bb792dafea18b9be7f202"
   },
   "outputs": [
    {
     "name": "stdout",
     "output_type": "stream",
     "text": [
      "Total Number of Data Count : 10324\n"
     ]
    }
   ],
   "source": [
    "TotalRowCount = len(DataSet)\n",
    "print(\"Total Number of Data Count :\", TotalRowCount)"
   ]
  },
  {
   "cell_type": "markdown",
   "metadata": {
    "_uuid": "6d4bdbe84a5f8a4f21a91ba135b31cbc5892ed16"
   },
   "source": [
    "# Check DataType of CSV file"
   ]
  },
  {
   "cell_type": "code",
   "execution_count": 108,
   "metadata": {
    "_uuid": "9858cafc11001514223a1e56cf995b9ce24e3e13",
    "scrolled": true
   },
   "outputs": [
    {
     "data": {
      "text/plain": [
       "ID                                int64\n",
       "Project Code                     object\n",
       "PQ #                             object\n",
       "PO / SO #                        object\n",
       "ASN/DN #                         object\n",
       "Country                          object\n",
       "Managed By                       object\n",
       "Fulfill Via                      object\n",
       "Vendor INCO Term                 object\n",
       "Shipment Mode                    object\n",
       "PQ First Sent to Client Date     object\n",
       "PO Sent to Vendor Date           object\n",
       "Scheduled Delivery Date          object\n",
       "Delivered to Client Date         object\n",
       "Delivery Recorded Date           object\n",
       "Product Group                    object\n",
       "Sub Classification               object\n",
       "Vendor                           object\n",
       "Item Description                 object\n",
       "Molecule/Test Type               object\n",
       "Brand                            object\n",
       "Dosage                           object\n",
       "Dosage Form                      object\n",
       "Unit of Measure (Per Pack)        int64\n",
       "Line Item Quantity                int64\n",
       "Line Item Value                 float64\n",
       "Pack Price                      float64\n",
       "Unit Price                      float64\n",
       "Manufacturing Site               object\n",
       "First Line Designation           object\n",
       "Weight (Kilograms)               object\n",
       "Freight Cost (USD)               object\n",
       "Line Item Insurance (USD)        object\n",
       "dtype: object"
      ]
     },
     "execution_count": 108,
     "metadata": {},
     "output_type": "execute_result"
    }
   ],
   "source": [
    "DataSet.dtypes"
   ]
  },
  {
   "cell_type": "markdown",
   "metadata": {},
   "source": [
    "# Rename columns"
   ]
  },
  {
   "cell_type": "code",
   "execution_count": 109,
   "metadata": {},
   "outputs": [],
   "source": [
    "DataSet.rename(columns={\"Freight Cost (USD)\": \"Freight_Cost_USD\"}, inplace=True)"
   ]
  },
  {
   "cell_type": "markdown",
   "metadata": {
    "_uuid": "6285e00e3ccf89ea34e1553f4bb5d17e2c3e7740"
   },
   "source": [
    "# Print first 5 and last 5 recods from DataSet"
   ]
  },
  {
   "cell_type": "code",
   "execution_count": 110,
   "metadata": {
    "_uuid": "1a258615333555b15cb3370127324396d9a7e6ee"
   },
   "outputs": [
    {
     "data": {
      "text/html": [
       "<div>\n",
       "<style scoped>\n",
       "    .dataframe tbody tr th:only-of-type {\n",
       "        vertical-align: middle;\n",
       "    }\n",
       "\n",
       "    .dataframe tbody tr th {\n",
       "        vertical-align: top;\n",
       "    }\n",
       "\n",
       "    .dataframe thead th {\n",
       "        text-align: right;\n",
       "    }\n",
       "</style>\n",
       "<table border=\"1\" class=\"dataframe\">\n",
       "  <thead>\n",
       "    <tr style=\"text-align: right;\">\n",
       "      <th></th>\n",
       "      <th>Unit of Measure (Per Pack)</th>\n",
       "      <th>Line Item Quantity</th>\n",
       "      <th>Pack Price</th>\n",
       "      <th>Unit Price</th>\n",
       "      <th>Weight (Kilograms)</th>\n",
       "      <th>Country</th>\n",
       "      <th>Shipment Mode</th>\n",
       "      <th>Freight_Cost_USD</th>\n",
       "    </tr>\n",
       "  </thead>\n",
       "  <tbody>\n",
       "    <tr>\n",
       "      <th>0</th>\n",
       "      <td>30</td>\n",
       "      <td>19</td>\n",
       "      <td>29.00</td>\n",
       "      <td>0.97</td>\n",
       "      <td>13</td>\n",
       "      <td>Côte d'Ivoire</td>\n",
       "      <td>Air</td>\n",
       "      <td>780.34</td>\n",
       "    </tr>\n",
       "    <tr>\n",
       "      <th>1</th>\n",
       "      <td>240</td>\n",
       "      <td>1000</td>\n",
       "      <td>6.20</td>\n",
       "      <td>0.03</td>\n",
       "      <td>358</td>\n",
       "      <td>Vietnam</td>\n",
       "      <td>Air</td>\n",
       "      <td>4521.5</td>\n",
       "    </tr>\n",
       "    <tr>\n",
       "      <th>2</th>\n",
       "      <td>100</td>\n",
       "      <td>500</td>\n",
       "      <td>80.00</td>\n",
       "      <td>0.80</td>\n",
       "      <td>171</td>\n",
       "      <td>Côte d'Ivoire</td>\n",
       "      <td>Air</td>\n",
       "      <td>1653.78</td>\n",
       "    </tr>\n",
       "    <tr>\n",
       "      <th>3</th>\n",
       "      <td>60</td>\n",
       "      <td>31920</td>\n",
       "      <td>3.99</td>\n",
       "      <td>0.07</td>\n",
       "      <td>1855</td>\n",
       "      <td>Vietnam</td>\n",
       "      <td>Air</td>\n",
       "      <td>16007.06</td>\n",
       "    </tr>\n",
       "    <tr>\n",
       "      <th>4</th>\n",
       "      <td>60</td>\n",
       "      <td>38000</td>\n",
       "      <td>3.20</td>\n",
       "      <td>0.05</td>\n",
       "      <td>7590</td>\n",
       "      <td>Vietnam</td>\n",
       "      <td>Air</td>\n",
       "      <td>45450.08</td>\n",
       "    </tr>\n",
       "    <tr>\n",
       "      <th>...</th>\n",
       "      <td>...</td>\n",
       "      <td>...</td>\n",
       "      <td>...</td>\n",
       "      <td>...</td>\n",
       "      <td>...</td>\n",
       "      <td>...</td>\n",
       "      <td>...</td>\n",
       "      <td>...</td>\n",
       "    </tr>\n",
       "    <tr>\n",
       "      <th>10319</th>\n",
       "      <td>60</td>\n",
       "      <td>166571</td>\n",
       "      <td>3.60</td>\n",
       "      <td>0.06</td>\n",
       "      <td>See DN-4307 (ID#:83920)</td>\n",
       "      <td>Zimbabwe</td>\n",
       "      <td>Truck</td>\n",
       "      <td>See DN-4307 (ID#:83920)</td>\n",
       "    </tr>\n",
       "    <tr>\n",
       "      <th>10320</th>\n",
       "      <td>60</td>\n",
       "      <td>21072</td>\n",
       "      <td>6.52</td>\n",
       "      <td>0.11</td>\n",
       "      <td>See DN-4313 (ID#:83921)</td>\n",
       "      <td>Côte d'Ivoire</td>\n",
       "      <td>Truck</td>\n",
       "      <td>See DN-4313 (ID#:83921)</td>\n",
       "    </tr>\n",
       "    <tr>\n",
       "      <th>10321</th>\n",
       "      <td>30</td>\n",
       "      <td>514526</td>\n",
       "      <td>9.99</td>\n",
       "      <td>0.33</td>\n",
       "      <td>Weight Captured Separately</td>\n",
       "      <td>Zambia</td>\n",
       "      <td>Truck</td>\n",
       "      <td>Freight Included in Commodity Cost</td>\n",
       "    </tr>\n",
       "    <tr>\n",
       "      <th>10322</th>\n",
       "      <td>60</td>\n",
       "      <td>17465</td>\n",
       "      <td>6.52</td>\n",
       "      <td>0.11</td>\n",
       "      <td>1392</td>\n",
       "      <td>Zimbabwe</td>\n",
       "      <td>Truck</td>\n",
       "      <td>Freight Included in Commodity Cost</td>\n",
       "    </tr>\n",
       "    <tr>\n",
       "      <th>10323</th>\n",
       "      <td>60</td>\n",
       "      <td>36639</td>\n",
       "      <td>1.99</td>\n",
       "      <td>0.03</td>\n",
       "      <td>Weight Captured Separately</td>\n",
       "      <td>Zimbabwe</td>\n",
       "      <td>Truck</td>\n",
       "      <td>Freight Included in Commodity Cost</td>\n",
       "    </tr>\n",
       "  </tbody>\n",
       "</table>\n",
       "<p>10324 rows × 8 columns</p>\n",
       "</div>"
      ],
      "text/plain": [
       "       Unit of Measure (Per Pack)  Line Item Quantity           Pack Price  \\\n",
       "0                              30                  19                29.00   \n",
       "1                             240                1000                 6.20   \n",
       "2                             100                 500                80.00   \n",
       "3                              60               31920                 3.99   \n",
       "4                              60               38000                 3.20   \n",
       "...                           ...                 ...                  ...   \n",
       "10319                          60              166571                 3.60   \n",
       "10320                          60               21072                 6.52   \n",
       "10321                          30              514526                 9.99   \n",
       "10322                          60               17465                 6.52   \n",
       "10323                          60               36639                 1.99   \n",
       "\n",
       "                Unit Price          Weight (Kilograms)        Country  \\\n",
       "0                     0.97                          13  Côte d'Ivoire   \n",
       "1                     0.03                         358        Vietnam   \n",
       "2                     0.80                         171  Côte d'Ivoire   \n",
       "3                     0.07                        1855        Vietnam   \n",
       "4                     0.05                        7590        Vietnam   \n",
       "...                    ...                         ...            ...   \n",
       "10319                 0.06     See DN-4307 (ID#:83920)       Zimbabwe   \n",
       "10320                 0.11     See DN-4313 (ID#:83921)  Côte d'Ivoire   \n",
       "10321                 0.33  Weight Captured Separately         Zambia   \n",
       "10322                 0.11                        1392       Zimbabwe   \n",
       "10323                 0.03  Weight Captured Separately       Zimbabwe   \n",
       "\n",
       "      Shipment Mode                    Freight_Cost_USD  \n",
       "0               Air                              780.34  \n",
       "1               Air                              4521.5  \n",
       "2               Air                             1653.78  \n",
       "3               Air                            16007.06  \n",
       "4               Air                            45450.08  \n",
       "...             ...                                 ...  \n",
       "10319         Truck             See DN-4307 (ID#:83920)  \n",
       "10320         Truck             See DN-4313 (ID#:83921)  \n",
       "10321         Truck  Freight Included in Commodity Cost  \n",
       "10322         Truck  Freight Included in Commodity Cost  \n",
       "10323         Truck  Freight Included in Commodity Cost  \n",
       "\n",
       "[10324 rows x 8 columns]"
      ]
     },
     "execution_count": 110,
     "metadata": {},
     "output_type": "execute_result"
    }
   ],
   "source": [
    "DataSet[['Unit of Measure (Per Pack)', 'Line Item Quantity', 'Pack Price', 'Unit Price', 'Weight (Kilograms)',\n",
    "                          'Country', 'Shipment Mode', 'Freight_Cost_USD']]"
   ]
  },
  {
   "cell_type": "markdown",
   "metadata": {
    "_uuid": "a101d3ce6f9947432aae50fac1abcd2b747c522c"
   },
   "source": [
    "# Total 16 Country wise count with graph"
   ]
  },
  {
   "cell_type": "code",
   "execution_count": 111,
   "metadata": {
    "_uuid": "9002a0f5a9551484f02c64ae008bcf805c8158b1",
    "scrolled": true
   },
   "outputs": [
    {
     "name": "stdout",
     "output_type": "stream",
     "text": [
      "Top 43 Countries Wise Count \n",
      "\n",
      "South Africa          1406\n",
      "Nigeria               1194\n",
      "Côte d'Ivoire         1083\n",
      "Uganda                 779\n",
      "Vietnam                688\n",
      "Zambia                 683\n",
      "Haiti                  655\n",
      "Mozambique             631\n",
      "Zimbabwe               538\n",
      "Tanzania               519\n",
      "Rwanda                 430\n",
      "Congo, DRC             333\n",
      "Guyana                 237\n",
      "Ethiopia               216\n",
      "South Sudan            164\n",
      "Kenya                  111\n",
      "Burundi                 98\n",
      "Namibia                 95\n",
      "Cameroon                75\n",
      "Botswana                70\n",
      "Ghana                   58\n",
      "Dominican Republic      52\n",
      "Sudan                   46\n",
      "Swaziland               35\n",
      "Mali                    17\n",
      "Pakistan                15\n",
      "Guatemala               15\n",
      "Malawi                  14\n",
      "Benin                   13\n",
      "Lebanon                  8\n",
      "Libya                    8\n",
      "Angola                   7\n",
      "Liberia                  6\n",
      "Lesotho                  4\n",
      "Sierra Leone             4\n",
      "Afghanistan              3\n",
      "Togo                     3\n",
      "Senegal                  3\n",
      "Kazakhstan               2\n",
      "Kyrgyzstan               2\n",
      "Burkina Faso             2\n",
      "Belize                   1\n",
      "Guinea                   1\n",
      "Name: Country, dtype: int64\n"
     ]
    },
    {
     "data": {
      "text/plain": [
       "Text(0.5, 0, 'Country Name')"
      ]
     },
     "execution_count": 111,
     "metadata": {},
     "output_type": "execute_result"
    },
    {
     "data": {
      "image/png": "[encoded data removed]",
      "text/plain": [
       "<Figure size 1584x432 with 1 Axes>"
      ]
     },
     "metadata": {
      "needs_background": "light"
     },
     "output_type": "display_data"
    }
   ],
   "source": [
    "DataSet = DataSet.dropna()\n",
    "ItemCount = DataSet[\"Country\"].value_counts().nlargest(43)\n",
    "print(\"Top 43 Countries Wise Count \\n\")\n",
    "print(ItemCount)\n",
    "sn.set_context(\"talk\",font_scale=1)\n",
    "plt.figure(figsize=(22,6))\n",
    "sn.countplot(DataSet['Country'],order = DataSet['Country'].value_counts().nlargest(16).index)\n",
    "plt.title('Top 16 Countries Wise Count \\n')\n",
    "plt.ylabel('Total Count')\n",
    "plt.xlabel('Country Name')"
   ]
  },
  {
   "cell_type": "markdown",
   "metadata": {
    "_uuid": "520caa6709d9935f1ae9943342c4f62992c879e4"
   },
   "source": [
    "# Shipment Mode percentage wise Pie Chart"
   ]
  },
  {
   "cell_type": "code",
   "execution_count": 112,
   "metadata": {
    "_uuid": "124ee522e1e0bdc59e6da1c0b9f06b9e80b576a7",
    "scrolled": true
   },
   "outputs": [
    {
     "data": {
      "application/vnd.plotly.v1+json": {
       "config": {
        "linkText": "Export to plot.ly",
        "plotlyServerURL": "https://plot.ly",
        "showLink": false
       },
       "data": [
        {
         "labels": [
          "Air",
          "Truck",
          "Air Charter",
          "Ocean",
          "no_value"
         ],
         "type": "pie",
         "values": [
          59.21154591243704,
          27.411855869817902,
          6.296009298721426,
          3.5935683843471526,
          3.487020534676482
         ]
        }
       ],
       "layout": {
        "template": {
         "data": {
          "bar": [
           {
            "error_x": {
             "color": "#2a3f5f"
            },
            "error_y": {
             "color": "#2a3f5f"
            },
            "marker": {
             "line": {
              "color": "#E5ECF6",
              "width": 0.5
             }
            },
            "type": "bar"
           }
          ],
          "barpolar": [
           {
            "marker": {
             "line": {
              "color": "#E5ECF6",
              "width": 0.5
             }
            },
            "type": "barpolar"
           }
          ],
          "carpet": [
           {
            "aaxis": {
             "endlinecolor": "#2a3f5f",
             "gridcolor": "white",
             "linecolor": "white",
             "minorgridcolor": "white",
             "startlinecolor": "#2a3f5f"
            },
            "baxis": {
             "endlinecolor": "#2a3f5f",
             "gridcolor": "white",
             "linecolor": "white",
             "minorgridcolor": "white",
             "startlinecolor": "#2a3f5f"
            },
            "type": "carpet"
           }
          ],
          "choropleth": [
           {
            "colorbar": {
             "outlinewidth": 0,
             "ticks": ""
            },
            "type": "choropleth"
           }
          ],
          "contour": [
           {
            "colorbar": {
             "outlinewidth": 0,
             "ticks": ""
            },
            "colorscale": [
             [
              0,
              "#0d0887"
             ],
             [
              0.1111111111111111,
              "#46039f"
             ],
             [
              0.2222222222222222,
              "#7201a8"
             ],
             [
              0.3333333333333333,
              "#9c179e"
             ],
             [
              0.4444444444444444,
              "#bd3786"
             ],
             [
              0.5555555555555556,
              "#d8576b"
             ],
             [
              0.6666666666666666,
              "#ed7953"
             ],
             [
              0.7777777777777778,
              "#fb9f3a"
             ],
             [
              0.8888888888888888,
              "#fdca26"
             ],
             [
              1,
              "#f0f921"
             ]
            ],
            "type": "contour"
           }
          ],
          "contourcarpet": [
           {
            "colorbar": {
             "outlinewidth": 0,
             "ticks": ""
            },
            "type": "contourcarpet"
           }
          ],
          "heatmap": [
           {
            "colorbar": {
             "outlinewidth": 0,
             "ticks": ""
            },
            "colorscale": [
             [
              0,
              "#0d0887"
             ],
             [
              0.1111111111111111,
              "#46039f"
             ],
             [
              0.2222222222222222,
              "#7201a8"
             ],
             [
              0.3333333333333333,
              "#9c179e"
             ],
             [
              0.4444444444444444,
              "#bd3786"
             ],
             [
              0.5555555555555556,
              "#d8576b"
             ],
             [
              0.6666666666666666,
              "#ed7953"
             ],
             [
              0.7777777777777778,
              "#fb9f3a"
             ],
             [
              0.8888888888888888,
              "#fdca26"
             ],
             [
              1,
              "#f0f921"
             ]
            ],
            "type": "heatmap"
           }
          ],
          "heatmapgl": [
           {
            "colorbar": {
             "outlinewidth": 0,
             "ticks": ""
            },
            "colorscale": [
             [
              0,
              "#0d0887"
             ],
             [
              0.1111111111111111,
              "#46039f"
             ],
             [
              0.2222222222222222,
              "#7201a8"
             ],
             [
              0.3333333333333333,
              "#9c179e"
             ],
             [
              0.4444444444444444,
              "#bd3786"
             ],
             [
              0.5555555555555556,
              "#d8576b"
             ],
             [
              0.6666666666666666,
              "#ed7953"
             ],
             [
              0.7777777777777778,
              "#fb9f3a"
             ],
             [
              0.8888888888888888,
              "#fdca26"
             ],
             [
              1,
              "#f0f921"
             ]
            ],
            "type": "heatmapgl"
           }
          ],
          "histogram": [
           {
            "marker": {
             "colorbar": {
              "outlinewidth": 0,
              "ticks": ""
             }
            },
            "type": "histogram"
           }
          ],
          "histogram2d": [
           {
            "colorbar": {
             "outlinewidth": 0,
             "ticks": ""
            },
            "colorscale": [
             [
              0,
              "#0d0887"
             ],
             [
              0.1111111111111111,
              "#46039f"
             ],
             [
              0.2222222222222222,
              "#7201a8"
             ],
             [
              0.3333333333333333,
              "#9c179e"
             ],
             [
              0.4444444444444444,
              "#bd3786"
             ],
             [
              0.5555555555555556,
              "#d8576b"
             ],
             [
              0.6666666666666666,
              "#ed7953"
             ],
             [
              0.7777777777777778,
              "#fb9f3a"
             ],
             [
              0.8888888888888888,
              "#fdca26"
             ],
             [
              1,
              "#f0f921"
             ]
            ],
            "type": "histogram2d"
           }
          ],
          "histogram2dcontour": [
           {
            "colorbar": {
             "outlinewidth": 0,
             "ticks": ""
            },
            "colorscale": [
             [
              0,
              "#0d0887"
             ],
             [
              0.1111111111111111,
              "#46039f"
             ],
             [
              0.2222222222222222,
              "#7201a8"
             ],
             [
              0.3333333333333333,
              "#9c179e"
             ],
             [
              0.4444444444444444,
              "#bd3786"
             ],
             [
              0.5555555555555556,
              "#d8576b"
             ],
             [
              0.6666666666666666,
              "#ed7953"
             ],
             [
              0.7777777777777778,
              "#fb9f3a"
             ],
             [
              0.8888888888888888,
              "#fdca26"
             ],
             [
              1,
              "#f0f921"
             ]
            ],
            "type": "histogram2dcontour"
           }
          ],
          "mesh3d": [
           {
            "colorbar": {
             "outlinewidth": 0,
             "ticks": ""
            },
            "type": "mesh3d"
           }
          ],
          "parcoords": [
           {
            "line": {
             "colorbar": {
              "outlinewidth": 0,
              "ticks": ""
             }
            },
            "type": "parcoords"
           }
          ],
          "scatter": [
           {
            "marker": {
             "colorbar": {
              "outlinewidth": 0,
              "ticks": ""
             }
            },
            "type": "scatter"
           }
          ],
          "scatter3d": [
           {
            "line": {
             "colorbar": {
              "outlinewidth": 0,
              "ticks": ""
             }
            },
            "marker": {
             "colorbar": {
              "outlinewidth": 0,
              "ticks": ""
             }
            },
            "type": "scatter3d"
           }
          ],
          "scattercarpet": [
           {
            "marker": {
             "colorbar": {
              "outlinewidth": 0,
              "ticks": ""
             }
            },
            "type": "scattercarpet"
           }
          ],
          "scattergeo": [
           {
            "marker": {
             "colorbar": {
              "outlinewidth": 0,
              "ticks": ""
             }
            },
            "type": "scattergeo"
           }
          ],
          "scattergl": [
           {
            "marker": {
             "colorbar": {
              "outlinewidth": 0,
              "ticks": ""
             }
            },
            "type": "scattergl"
           }
          ],
          "scattermapbox": [
           {
            "marker": {
             "colorbar": {
              "outlinewidth": 0,
              "ticks": ""
             }
            },
            "type": "scattermapbox"
           }
          ],
          "scatterpolar": [
           {
            "marker": {
             "colorbar": {
              "outlinewidth": 0,
              "ticks": ""
             }
            },
            "type": "scatterpolar"
           }
          ],
          "scatterpolargl": [
           {
            "marker": {
             "colorbar": {
              "outlinewidth": 0,
              "ticks": ""
             }
            },
            "type": "scatterpolargl"
           }
          ],
          "scatterternary": [
           {
            "marker": {
             "colorbar": {
              "outlinewidth": 0,
              "ticks": ""
             }
            },
            "type": "scatterternary"
           }
          ],
          "surface": [
           {
            "colorbar": {
             "outlinewidth": 0,
             "ticks": ""
            },
            "colorscale": [
             [
              0,
              "#0d0887"
             ],
             [
              0.1111111111111111,
              "#46039f"
             ],
             [
              0.2222222222222222,
              "#7201a8"
             ],
             [
              0.3333333333333333,
              "#9c179e"
             ],
             [
              0.4444444444444444,
              "#bd3786"
             ],
             [
              0.5555555555555556,
              "#d8576b"
             ],
             [
              0.6666666666666666,
              "#ed7953"
             ],
             [
              0.7777777777777778,
              "#fb9f3a"
             ],
             [
              0.8888888888888888,
              "#fdca26"
             ],
             [
              1,
              "#f0f921"
             ]
            ],
            "type": "surface"
           }
          ],
          "table": [
           {
            "cells": {
             "fill": {
              "color": "#EBF0F8"
             },
             "line": {
              "color": "white"
             }
            },
            "header": {
             "fill": {
              "color": "#C8D4E3"
             },
             "line": {
              "color": "white"
             }
            },
            "type": "table"
           }
          ]
         },
         "layout": {
          "annotationdefaults": {
           "arrowcolor": "#2a3f5f",
           "arrowhead": 0,
           "arrowwidth": 1
          },
          "colorscale": {
           "diverging": [
            [
             0,
             "#8e0152"
            ],
            [
             0.1,
             "#c51b7d"
            ],
            [
             0.2,
             "#de77ae"
            ],
            [
             0.3,
             "#f1b6da"
            ],
            [
             0.4,
             "#fde0ef"
            ],
            [
             0.5,
             "#f7f7f7"
            ],
            [
             0.6,
             "#e6f5d0"
            ],
            [
             0.7,
             "#b8e186"
            ],
            [
             0.8,
             "#7fbc41"
            ],
            [
             0.9,
             "#4d9221"
            ],
            [
             1,
             "#276419"
            ]
           ],
           "sequential": [
            [
             0,
             "#0d0887"
            ],
            [
             0.1111111111111111,
             "#46039f"
            ],
            [
             0.2222222222222222,
             "#7201a8"
            ],
            [
             0.3333333333333333,
             "#9c179e"
            ],
            [
             0.4444444444444444,
             "#bd3786"
            ],
            [
             0.5555555555555556,
             "#d8576b"
            ],
            [
             0.6666666666666666,
             "#ed7953"
            ],
            [
             0.7777777777777778,
             "#fb9f3a"
            ],
            [
             0.8888888888888888,
             "#fdca26"
            ],
            [
             1,
             "#f0f921"
            ]
           ],
           "sequentialminus": [
            [
             0,
             "#0d0887"
            ],
            [
             0.1111111111111111,
             "#46039f"
            ],
            [
             0.2222222222222222,
             "#7201a8"
            ],
            [
             0.3333333333333333,
             "#9c179e"
            ],
            [
             0.4444444444444444,
             "#bd3786"
            ],
            [
             0.5555555555555556,
             "#d8576b"
            ],
            [
             0.6666666666666666,
             "#ed7953"
            ],
            [
             0.7777777777777778,
             "#fb9f3a"
            ],
            [
             0.8888888888888888,
             "#fdca26"
            ],
            [
             1,
             "#f0f921"
            ]
           ]
          },
          "colorway": [
           "#636efa",
           "#EF553B",
           "#00cc96",
           "#ab63fa",
           "#FFA15A",
           "#19d3f3",
           "#FF6692",
           "#B6E880",
           "#FF97FF",
           "#FECB52"
          ],
          "font": {
           "color": "#2a3f5f"
          },
          "geo": {
           "bgcolor": "white",
           "lakecolor": "white",
           "landcolor": "#E5ECF6",
           "showlakes": true,
           "showland": true,
           "subunitcolor": "white"
          },
          "hoverlabel": {
           "align": "left"
          },
          "hovermode": "closest",
          "mapbox": {
           "style": "light"
          },
          "paper_bgcolor": "white",
          "plot_bgcolor": "#E5ECF6",
          "polar": {
           "angularaxis": {
            "gridcolor": "white",
            "linecolor": "white",
            "ticks": ""
           },
           "bgcolor": "#E5ECF6",
           "radialaxis": {
            "gridcolor": "white",
            "linecolor": "white",
            "ticks": ""
           }
          },
          "scene": {
           "xaxis": {
            "backgroundcolor": "#E5ECF6",
            "gridcolor": "white",
            "gridwidth": 2,
            "linecolor": "white",
            "showbackground": true,
            "ticks": "",
            "zerolinecolor": "white"
           },
           "yaxis": {
            "backgroundcolor": "#E5ECF6",
            "gridcolor": "white",
            "gridwidth": 2,
            "linecolor": "white",
            "showbackground": true,
            "ticks": "",
            "zerolinecolor": "white"
           },
           "zaxis": {
            "backgroundcolor": "#E5ECF6",
            "gridcolor": "white",
            "gridwidth": 2,
            "linecolor": "white",
            "showbackground": true,
            "ticks": "",
            "zerolinecolor": "white"
           }
          },
          "shapedefaults": {
           "line": {
            "color": "#2a3f5f"
           }
          },
          "ternary": {
           "aaxis": {
            "gridcolor": "white",
            "linecolor": "white",
            "ticks": ""
           },
           "baxis": {
            "gridcolor": "white",
            "linecolor": "white",
            "ticks": ""
           },
           "bgcolor": "#E5ECF6",
           "caxis": {
            "gridcolor": "white",
            "linecolor": "white",
            "ticks": ""
           }
          },
          "title": {
           "x": 0.05
          },
          "xaxis": {
           "automargin": true,
           "gridcolor": "white",
           "linecolor": "white",
           "ticks": "",
           "zerolinecolor": "white",
           "zerolinewidth": 2
          },
          "yaxis": {
           "automargin": true,
           "gridcolor": "white",
           "linecolor": "white",
           "ticks": "",
           "zerolinecolor": "white",
           "zerolinewidth": 2
          }
         }
        },
        "title": {
         "text": "Shipment Mode"
        }
       }
      },
      "text/html": [
       "<div>\n",
       "        \n",
       "        \n",
       "            <div id=\"6558241a-afa2-40e1-ab8a-ab76bc5be105\" class=\"plotly-graph-div\" style=\"height:525px; width:100%;\"></div>\n",
       "            <script type=\"text/javascript\">\n",
       "                require([\"plotly\"], function(Plotly) {\n",
       "                    window.PLOTLYENV=window.PLOTLYENV || {};\n",
       "                    \n",
       "                if (document.getElementById(\"6558241a-afa2-40e1-ab8a-ab76bc5be105\")) {\n",
       "                    Plotly.newPlot(\n",
       "                        '6558241a-afa2-40e1-ab8a-ab76bc5be105',\n",
       "                        [{\"labels\": [\"Air\", \"Truck\", \"Air Charter\", \"Ocean\", \"no_value\"], \"type\": \"pie\", \"values\": [59.21154591243704, 27.411855869817902, 6.296009298721426, 3.5935683843471526, 3.487020534676482]}],\n",
       "                        {\"template\": {\"data\": {\"bar\": [{\"error_x\": {\"color\": \"#2a3f5f\"}, \"error_y\": {\"color\": \"#2a3f5f\"}, \"marker\": {\"line\": {\"color\": \"#E5ECF6\", \"width\": 0.5}}, \"type\": \"bar\"}], \"barpolar\": [{\"marker\": {\"line\": {\"color\": \"#E5ECF6\", \"width\": 0.5}}, \"type\": \"barpolar\"}], \"carpet\": [{\"aaxis\": {\"endlinecolor\": \"#2a3f5f\", \"gridcolor\": \"white\", \"linecolor\": \"white\", \"minorgridcolor\": \"white\", \"startlinecolor\": \"#2a3f5f\"}, \"baxis\": {\"endlinecolor\": \"#2a3f5f\", \"gridcolor\": \"white\", \"linecolor\": \"white\", \"minorgridcolor\": \"white\", \"startlinecolor\": \"#2a3f5f\"}, \"type\": \"carpet\"}], \"choropleth\": [{\"colorbar\": {\"outlinewidth\": 0, \"ticks\": \"\"}, \"type\": \"choropleth\"}], \"contour\": [{\"colorbar\": {\"outlinewidth\": 0, \"ticks\": \"\"}, \"colorscale\": [[0.0, \"#0d0887\"], [0.1111111111111111, \"#46039f\"], [0.2222222222222222, \"#7201a8\"], [0.3333333333333333, \"#9c179e\"], [0.4444444444444444, \"#bd3786\"], [0.5555555555555556, \"#d8576b\"], [0.6666666666666666, \"#ed7953\"], [0.7777777777777778, \"#fb9f3a\"], [0.8888888888888888, \"#fdca26\"], [1.0, \"#f0f921\"]], \"type\": \"contour\"}], \"contourcarpet\": [{\"colorbar\": {\"outlinewidth\": 0, \"ticks\": \"\"}, \"type\": \"contourcarpet\"}], \"heatmap\": [{\"colorbar\": {\"outlinewidth\": 0, \"ticks\": \"\"}, \"colorscale\": [[0.0, \"#0d0887\"], [0.1111111111111111, \"#46039f\"], [0.2222222222222222, \"#7201a8\"], [0.3333333333333333, \"#9c179e\"], [0.4444444444444444, \"#bd3786\"], [0.5555555555555556, \"#d8576b\"], [0.6666666666666666, \"#ed7953\"], [0.7777777777777778, \"#fb9f3a\"], [0.8888888888888888, \"#fdca26\"], [1.0, \"#f0f921\"]], \"type\": \"heatmap\"}], \"heatmapgl\": [{\"colorbar\": {\"outlinewidth\": 0, \"ticks\": \"\"}, \"colorscale\": [[0.0, \"#0d0887\"], [0.1111111111111111, \"#46039f\"], [0.2222222222222222, \"#7201a8\"], [0.3333333333333333, \"#9c179e\"], [0.4444444444444444, \"#bd3786\"], [0.5555555555555556, \"#d8576b\"], [0.6666666666666666, \"#ed7953\"], [0.7777777777777778, \"#fb9f3a\"], [0.8888888888888888, \"#fdca26\"], [1.0, \"#f0f921\"]], \"type\": \"heatmapgl\"}], \"histogram\": [{\"marker\": {\"colorbar\": {\"outlinewidth\": 0, \"ticks\": \"\"}}, \"type\": \"histogram\"}], \"histogram2d\": [{\"colorbar\": {\"outlinewidth\": 0, \"ticks\": \"\"}, \"colorscale\": [[0.0, \"#0d0887\"], [0.1111111111111111, \"#46039f\"], [0.2222222222222222, \"#7201a8\"], [0.3333333333333333, \"#9c179e\"], [0.4444444444444444, \"#bd3786\"], [0.5555555555555556, \"#d8576b\"], [0.6666666666666666, \"#ed7953\"], [0.7777777777777778, \"#fb9f3a\"], [0.8888888888888888, \"#fdca26\"], [1.0, \"#f0f921\"]], \"type\": \"histogram2d\"}], \"histogram2dcontour\": [{\"colorbar\": {\"outlinewidth\": 0, \"ticks\": \"\"}, \"colorscale\": [[0.0, \"#0d0887\"], [0.1111111111111111, \"#46039f\"], [0.2222222222222222, \"#7201a8\"], [0.3333333333333333, \"#9c179e\"], [0.4444444444444444, \"#bd3786\"], [0.5555555555555556, \"#d8576b\"], [0.6666666666666666, \"#ed7953\"], [0.7777777777777778, \"#fb9f3a\"], [0.8888888888888888, \"#fdca26\"], [1.0, \"#f0f921\"]], \"type\": \"histogram2dcontour\"}], \"mesh3d\": [{\"colorbar\": {\"outlinewidth\": 0, \"ticks\": \"\"}, \"type\": \"mesh3d\"}], \"parcoords\": [{\"line\": {\"colorbar\": {\"outlinewidth\": 0, \"ticks\": \"\"}}, \"type\": \"parcoords\"}], \"scatter\": [{\"marker\": {\"colorbar\": {\"outlinewidth\": 0, \"ticks\": \"\"}}, \"type\": \"scatter\"}], \"scatter3d\": [{\"line\": {\"colorbar\": {\"outlinewidth\": 0, \"ticks\": \"\"}}, \"marker\": {\"colorbar\": {\"outlinewidth\": 0, \"ticks\": \"\"}}, \"type\": \"scatter3d\"}], \"scattercarpet\": [{\"marker\": {\"colorbar\": {\"outlinewidth\": 0, \"ticks\": \"\"}}, \"type\": \"scattercarpet\"}], \"scattergeo\": [{\"marker\": {\"colorbar\": {\"outlinewidth\": 0, \"ticks\": \"\"}}, \"type\": \"scattergeo\"}], \"scattergl\": [{\"marker\": {\"colorbar\": {\"outlinewidth\": 0, \"ticks\": \"\"}}, \"type\": \"scattergl\"}], \"scattermapbox\": [{\"marker\": {\"colorbar\": {\"outlinewidth\": 0, \"ticks\": \"\"}}, \"type\": \"scattermapbox\"}], \"scatterpolar\": [{\"marker\": {\"colorbar\": {\"outlinewidth\": 0, \"ticks\": \"\"}}, \"type\": \"scatterpolar\"}], \"scatterpolargl\": [{\"marker\": {\"colorbar\": {\"outlinewidth\": 0, \"ticks\": \"\"}}, \"type\": \"scatterpolargl\"}], \"scatterternary\": [{\"marker\": {\"colorbar\": {\"outlinewidth\": 0, \"ticks\": \"\"}}, \"type\": \"scatterternary\"}], \"surface\": [{\"colorbar\": {\"outlinewidth\": 0, \"ticks\": \"\"}, \"colorscale\": [[0.0, \"#0d0887\"], [0.1111111111111111, \"#46039f\"], [0.2222222222222222, \"#7201a8\"], [0.3333333333333333, \"#9c179e\"], [0.4444444444444444, \"#bd3786\"], [0.5555555555555556, \"#d8576b\"], [0.6666666666666666, \"#ed7953\"], [0.7777777777777778, \"#fb9f3a\"], [0.8888888888888888, \"#fdca26\"], [1.0, \"#f0f921\"]], \"type\": \"surface\"}], \"table\": [{\"cells\": {\"fill\": {\"color\": \"#EBF0F8\"}, \"line\": {\"color\": \"white\"}}, \"header\": {\"fill\": {\"color\": \"#C8D4E3\"}, \"line\": {\"color\": \"white\"}}, \"type\": \"table\"}]}, \"layout\": {\"annotationdefaults\": {\"arrowcolor\": \"#2a3f5f\", \"arrowhead\": 0, \"arrowwidth\": 1}, \"colorscale\": {\"diverging\": [[0, \"#8e0152\"], [0.1, \"#c51b7d\"], [0.2, \"#de77ae\"], [0.3, \"#f1b6da\"], [0.4, \"#fde0ef\"], [0.5, \"#f7f7f7\"], [0.6, \"#e6f5d0\"], [0.7, \"#b8e186\"], [0.8, \"#7fbc41\"], [0.9, \"#4d9221\"], [1, \"#276419\"]], \"sequential\": [[0.0, \"#0d0887\"], [0.1111111111111111, \"#46039f\"], [0.2222222222222222, \"#7201a8\"], [0.3333333333333333, \"#9c179e\"], [0.4444444444444444, \"#bd3786\"], [0.5555555555555556, \"#d8576b\"], [0.6666666666666666, \"#ed7953\"], [0.7777777777777778, \"#fb9f3a\"], [0.8888888888888888, \"#fdca26\"], [1.0, \"#f0f921\"]], \"sequentialminus\": [[0.0, \"#0d0887\"], [0.1111111111111111, \"#46039f\"], [0.2222222222222222, \"#7201a8\"], [0.3333333333333333, \"#9c179e\"], [0.4444444444444444, \"#bd3786\"], [0.5555555555555556, \"#d8576b\"], [0.6666666666666666, \"#ed7953\"], [0.7777777777777778, \"#fb9f3a\"], [0.8888888888888888, \"#fdca26\"], [1.0, \"#f0f921\"]]}, \"colorway\": [\"#636efa\", \"#EF553B\", \"#00cc96\", \"#ab63fa\", \"#FFA15A\", \"#19d3f3\", \"#FF6692\", \"#B6E880\", \"#FF97FF\", \"#FECB52\"], \"font\": {\"color\": \"#2a3f5f\"}, \"geo\": {\"bgcolor\": \"white\", \"lakecolor\": \"white\", \"landcolor\": \"#E5ECF6\", \"showlakes\": true, \"showland\": true, \"subunitcolor\": \"white\"}, \"hoverlabel\": {\"align\": \"left\"}, \"hovermode\": \"closest\", \"mapbox\": {\"style\": \"light\"}, \"paper_bgcolor\": \"white\", \"plot_bgcolor\": \"#E5ECF6\", \"polar\": {\"angularaxis\": {\"gridcolor\": \"white\", \"linecolor\": \"white\", \"ticks\": \"\"}, \"bgcolor\": \"#E5ECF6\", \"radialaxis\": {\"gridcolor\": \"white\", \"linecolor\": \"white\", \"ticks\": \"\"}}, \"scene\": {\"xaxis\": {\"backgroundcolor\": \"#E5ECF6\", \"gridcolor\": \"white\", \"gridwidth\": 2, \"linecolor\": \"white\", \"showbackground\": true, \"ticks\": \"\", \"zerolinecolor\": \"white\"}, \"yaxis\": {\"backgroundcolor\": \"#E5ECF6\", \"gridcolor\": \"white\", \"gridwidth\": 2, \"linecolor\": \"white\", \"showbackground\": true, \"ticks\": \"\", \"zerolinecolor\": \"white\"}, \"zaxis\": {\"backgroundcolor\": \"#E5ECF6\", \"gridcolor\": \"white\", \"gridwidth\": 2, \"linecolor\": \"white\", \"showbackground\": true, \"ticks\": \"\", \"zerolinecolor\": \"white\"}}, \"shapedefaults\": {\"line\": {\"color\": \"#2a3f5f\"}}, \"ternary\": {\"aaxis\": {\"gridcolor\": \"white\", \"linecolor\": \"white\", \"ticks\": \"\"}, \"baxis\": {\"gridcolor\": \"white\", \"linecolor\": \"white\", \"ticks\": \"\"}, \"bgcolor\": \"#E5ECF6\", \"caxis\": {\"gridcolor\": \"white\", \"linecolor\": \"white\", \"ticks\": \"\"}}, \"title\": {\"x\": 0.05}, \"xaxis\": {\"automargin\": true, \"gridcolor\": \"white\", \"linecolor\": \"white\", \"ticks\": \"\", \"zerolinecolor\": \"white\", \"zerolinewidth\": 2}, \"yaxis\": {\"automargin\": true, \"gridcolor\": \"white\", \"linecolor\": \"white\", \"ticks\": \"\", \"zerolinecolor\": \"white\", \"zerolinewidth\": 2}}}, \"title\": {\"text\": \"Shipment Mode\"}},\n",
       "                        {\"responsive\": true}\n",
       "                    ).then(function(){\n",
       "                            \n",
       "var gd = document.getElementById('6558241a-afa2-40e1-ab8a-ab76bc5be105');\n",
       "var x = new MutationObserver(function (mutations, observer) {{\n",
       "        var display = window.getComputedStyle(gd).display;\n",
       "        if (!display || display === 'none') {{\n",
       "            console.log([gd, 'removed!']);\n",
       "            Plotly.purge(gd);\n",
       "            observer.disconnect();\n",
       "        }}\n",
       "}});\n",
       "\n",
       "// Listen for the removal of the full notebook cells\n",
       "var notebookContainer = gd.closest('#notebook-container');\n",
       "if (notebookContainer) {{\n",
       "    x.observe(notebookContainer, {childList: true});\n",
       "}}\n",
       "\n",
       "// Listen for the clearing of the current output cell\n",
       "var outputEl = gd.closest('.output');\n",
       "if (outputEl) {{\n",
       "    x.observe(outputEl, {childList: true});\n",
       "}}\n",
       "\n",
       "                        })\n",
       "                };\n",
       "                });\n",
       "            </script>\n",
       "        </div>"
      ]
     },
     "metadata": {},
     "output_type": "display_data"
    }
   ],
   "source": [
    "ShippingMode = DataSet[\"Shipment Mode\"].value_counts()\n",
    "labels = (np.array(ShippingMode.index))\n",
    "sizes = (np.array((ShippingMode / ShippingMode.sum())*100))\n",
    "\n",
    "trace = go.Pie(labels=labels, values=sizes)\n",
    "layout = go.Layout(title=\"Shipment Mode\")\n",
    "dat = [trace]\n",
    "fig = go.Figure(data=dat, layout=layout)\n",
    "\n",
    "show_image = None\n",
    "if export_flag:    \n",
    "    chart_studio.plotly.image.save_as(fig, filename='shipment-mode-plot.png')\n",
    "    show_image = Image('shipment-mode-plot.png')\n",
    "else:\n",
    "    py.iplot(fig, filename=\"Shipment Mode\")\n",
    "    \n",
    "show_image"
   ]
  },
  {
   "cell_type": "markdown",
   "metadata": {},
   "source": [
    "# ETL"
   ]
  },
  {
   "cell_type": "code",
   "execution_count": 113,
   "metadata": {},
   "outputs": [],
   "source": [
    "regex = {\n",
    "    \"id_number\": \":\\d*\"\n",
    "}\n",
    "\n",
    "def change_to_number(freight_cost_usd):\n",
    "    match = re.search(regex['id_number'], freight_cost_usd, re.IGNORECASE)\n",
    "    if match:\n",
    "        id = match.group(0).replace(':','')\n",
    "        filtered = DataSet.query(\"ID == \"+id)\n",
    "        return filtered['Freight_Cost_USD'].item()\n",
    "    else:\n",
    "        return freight_cost_usd\n",
    "    \n",
    "def convert_to_number(weight):\n",
    "    match = re.search(regex['id_number'], weight, re.IGNORECASE)\n",
    "    if match:\n",
    "        id = match.group(0).replace(':','')\n",
    "        filtered = DataSet.query(\"ID == \"+id)\n",
    "        return filtered['Weight (Kilograms)'].item()\n",
    "    else:\n",
    "        return weight"
   ]
  },
  {
   "cell_type": "code",
   "execution_count": 114,
   "metadata": {},
   "outputs": [
    {
     "name": "stderr",
     "output_type": "stream",
     "text": [
      "/home/jhonny/anaconda3/envs/supply-chain/lib/python3.7/site-packages/ipykernel_launcher.py:10: FutureWarning:\n",
      "\n",
      "`item` has been deprecated and will be removed in a future version\n",
      "\n",
      "/home/jhonny/anaconda3/envs/supply-chain/lib/python3.7/site-packages/ipykernel_launcher.py:19: FutureWarning:\n",
      "\n",
      "`item` has been deprecated and will be removed in a future version\n",
      "\n"
     ]
    }
   ],
   "source": [
    "DataSet['Freight_Cost_USD_Clean'] = DataSet['Freight_Cost_USD'].apply(change_to_number)\n",
    "DataSet['Weight_Kilograms_Clean'] = DataSet['Weight (Kilograms)'].apply(convert_to_number)"
   ]
  },
  {
   "cell_type": "code",
   "execution_count": 115,
   "metadata": {
    "scrolled": true
   },
   "outputs": [
    {
     "name": "stdout",
     "output_type": "stream",
     "text": [
      "Freight_Cost_USD_Clean indexes: 1786\n",
      "Weight_Kilograms_Clean indexes: 1633\n",
      "Shipment Mode indexes:          360\n",
      "Indexes: 2142\n",
      "Size: (8182, 35)\n"
     ]
    },
    {
     "data": {
      "text/html": [
       "<div>\n",
       "<style scoped>\n",
       "    .dataframe tbody tr th:only-of-type {\n",
       "        vertical-align: middle;\n",
       "    }\n",
       "\n",
       "    .dataframe tbody tr th {\n",
       "        vertical-align: top;\n",
       "    }\n",
       "\n",
       "    .dataframe thead th {\n",
       "        text-align: right;\n",
       "    }\n",
       "</style>\n",
       "<table border=\"1\" class=\"dataframe\">\n",
       "  <thead>\n",
       "    <tr style=\"text-align: right;\">\n",
       "      <th></th>\n",
       "      <th>Unit of Measure (Per Pack)</th>\n",
       "      <th>Line Item Quantity</th>\n",
       "      <th>Pack Price</th>\n",
       "      <th>Unit Price</th>\n",
       "      <th>Weight (Kilograms)</th>\n",
       "      <th>Country</th>\n",
       "      <th>Shipment Mode</th>\n",
       "      <th>Freight_Cost_USD</th>\n",
       "    </tr>\n",
       "  </thead>\n",
       "  <tbody>\n",
       "    <tr>\n",
       "      <th>0</th>\n",
       "      <td>30</td>\n",
       "      <td>19</td>\n",
       "      <td>29.00</td>\n",
       "      <td>0.97</td>\n",
       "      <td>13</td>\n",
       "      <td>Côte d'Ivoire</td>\n",
       "      <td>Air</td>\n",
       "      <td>780.34</td>\n",
       "    </tr>\n",
       "    <tr>\n",
       "      <th>1</th>\n",
       "      <td>240</td>\n",
       "      <td>1000</td>\n",
       "      <td>6.20</td>\n",
       "      <td>0.03</td>\n",
       "      <td>358</td>\n",
       "      <td>Vietnam</td>\n",
       "      <td>Air</td>\n",
       "      <td>4521.5</td>\n",
       "    </tr>\n",
       "    <tr>\n",
       "      <th>2</th>\n",
       "      <td>100</td>\n",
       "      <td>500</td>\n",
       "      <td>80.00</td>\n",
       "      <td>0.80</td>\n",
       "      <td>171</td>\n",
       "      <td>Côte d'Ivoire</td>\n",
       "      <td>Air</td>\n",
       "      <td>1653.78</td>\n",
       "    </tr>\n",
       "    <tr>\n",
       "      <th>3</th>\n",
       "      <td>60</td>\n",
       "      <td>31920</td>\n",
       "      <td>3.99</td>\n",
       "      <td>0.07</td>\n",
       "      <td>1855</td>\n",
       "      <td>Vietnam</td>\n",
       "      <td>Air</td>\n",
       "      <td>16007.06</td>\n",
       "    </tr>\n",
       "    <tr>\n",
       "      <th>4</th>\n",
       "      <td>60</td>\n",
       "      <td>38000</td>\n",
       "      <td>3.20</td>\n",
       "      <td>0.05</td>\n",
       "      <td>7590</td>\n",
       "      <td>Vietnam</td>\n",
       "      <td>Air</td>\n",
       "      <td>45450.08</td>\n",
       "    </tr>\n",
       "    <tr>\n",
       "      <th>...</th>\n",
       "      <td>...</td>\n",
       "      <td>...</td>\n",
       "      <td>...</td>\n",
       "      <td>...</td>\n",
       "      <td>...</td>\n",
       "      <td>...</td>\n",
       "      <td>...</td>\n",
       "      <td>...</td>\n",
       "    </tr>\n",
       "    <tr>\n",
       "      <th>10316</th>\n",
       "      <td>60</td>\n",
       "      <td>15000</td>\n",
       "      <td>6.52</td>\n",
       "      <td>0.11</td>\n",
       "      <td>1547</td>\n",
       "      <td>Nigeria</td>\n",
       "      <td>Air Charter</td>\n",
       "      <td>3410</td>\n",
       "    </tr>\n",
       "    <tr>\n",
       "      <th>10317</th>\n",
       "      <td>30</td>\n",
       "      <td>6724</td>\n",
       "      <td>3.12</td>\n",
       "      <td>0.10</td>\n",
       "      <td>See DN-4282 (ID#:83919)</td>\n",
       "      <td>Nigeria</td>\n",
       "      <td>Air</td>\n",
       "      <td>See DN-4282 (ID#:83919)</td>\n",
       "    </tr>\n",
       "    <tr>\n",
       "      <th>10318</th>\n",
       "      <td>60</td>\n",
       "      <td>205243</td>\n",
       "      <td>3.60</td>\n",
       "      <td>0.06</td>\n",
       "      <td>See DN-4307 (ID#:83920)</td>\n",
       "      <td>Zimbabwe</td>\n",
       "      <td>Truck</td>\n",
       "      <td>See DN-4307 (ID#:83920)</td>\n",
       "    </tr>\n",
       "    <tr>\n",
       "      <th>10319</th>\n",
       "      <td>60</td>\n",
       "      <td>166571</td>\n",
       "      <td>3.60</td>\n",
       "      <td>0.06</td>\n",
       "      <td>See DN-4307 (ID#:83920)</td>\n",
       "      <td>Zimbabwe</td>\n",
       "      <td>Truck</td>\n",
       "      <td>See DN-4307 (ID#:83920)</td>\n",
       "    </tr>\n",
       "    <tr>\n",
       "      <th>10320</th>\n",
       "      <td>60</td>\n",
       "      <td>21072</td>\n",
       "      <td>6.52</td>\n",
       "      <td>0.11</td>\n",
       "      <td>See DN-4313 (ID#:83921)</td>\n",
       "      <td>Côte d'Ivoire</td>\n",
       "      <td>Truck</td>\n",
       "      <td>See DN-4313 (ID#:83921)</td>\n",
       "    </tr>\n",
       "  </tbody>\n",
       "</table>\n",
       "<p>8182 rows × 8 columns</p>\n",
       "</div>"
      ],
      "text/plain": [
       "       Unit of Measure (Per Pack)  Line Item Quantity           Pack Price  \\\n",
       "0                              30                  19                29.00   \n",
       "1                             240                1000                 6.20   \n",
       "2                             100                 500                80.00   \n",
       "3                              60               31920                 3.99   \n",
       "4                              60               38000                 3.20   \n",
       "...                           ...                 ...                  ...   \n",
       "10316                          60               15000                 6.52   \n",
       "10317                          30                6724                 3.12   \n",
       "10318                          60              205243                 3.60   \n",
       "10319                          60              166571                 3.60   \n",
       "10320                          60               21072                 6.52   \n",
       "\n",
       "                Unit Price       Weight (Kilograms)        Country  \\\n",
       "0                     0.97                       13  Côte d'Ivoire   \n",
       "1                     0.03                      358        Vietnam   \n",
       "2                     0.80                      171  Côte d'Ivoire   \n",
       "3                     0.07                     1855        Vietnam   \n",
       "4                     0.05                     7590        Vietnam   \n",
       "...                    ...                      ...            ...   \n",
       "10316                 0.11                     1547        Nigeria   \n",
       "10317                 0.10  See DN-4282 (ID#:83919)        Nigeria   \n",
       "10318                 0.06  See DN-4307 (ID#:83920)       Zimbabwe   \n",
       "10319                 0.06  See DN-4307 (ID#:83920)       Zimbabwe   \n",
       "10320                 0.11  See DN-4313 (ID#:83921)  Côte d'Ivoire   \n",
       "\n",
       "      Shipment Mode         Freight_Cost_USD  \n",
       "0               Air                   780.34  \n",
       "1               Air                   4521.5  \n",
       "2               Air                  1653.78  \n",
       "3               Air                 16007.06  \n",
       "4               Air                 45450.08  \n",
       "...             ...                      ...  \n",
       "10316   Air Charter                     3410  \n",
       "10317           Air  See DN-4282 (ID#:83919)  \n",
       "10318         Truck  See DN-4307 (ID#:83920)  \n",
       "10319         Truck  See DN-4307 (ID#:83920)  \n",
       "10320         Truck  See DN-4313 (ID#:83921)  \n",
       "\n",
       "[8182 rows x 8 columns]"
      ]
     },
     "execution_count": 115,
     "metadata": {},
     "output_type": "execute_result"
    }
   ],
   "source": [
    "freight_cost_indexes = DataSet.index[(DataSet['Freight_Cost_USD_Clean'] == 'Freight Included in Commodity Cost') \n",
    "                        | (DataSet['Freight_Cost_USD_Clean'] == 'Invoiced Separately')].tolist()\n",
    "weight_indexes = DataSet.index[DataSet['Weight_Kilograms_Clean'] == 'Weight Captured Separately'].tolist()\n",
    "shipment_indexes = DataSet.index[DataSet['Shipment Mode'] == 'no_value'].tolist()\n",
    "print(\"Freight_Cost_USD_Clean indexes:\",len(freight_cost_indexes))\n",
    "print(\"Weight_Kilograms_Clean indexes:\",len(weight_indexes))\n",
    "print(\"Shipment Mode indexes:         \",len(shipment_indexes))\n",
    "\n",
    "indexes = list(set(freight_cost_indexes + weight_indexes + shipment_indexes))\n",
    "print(\"Indexes:\",len(indexes))\n",
    "DataSetClean = DataSet.drop(indexes)\n",
    "\n",
    "print(\"Size:\", DataSetClean.shape)\n",
    "\n",
    "DataSetClean[['Unit of Measure (Per Pack)', 'Line Item Quantity', 'Pack Price', 'Unit Price', 'Weight (Kilograms)',\n",
    "                          'Country', 'Shipment Mode', 'Freight_Cost_USD']]"
   ]
  },
  {
   "cell_type": "code",
   "execution_count": 116,
   "metadata": {},
   "outputs": [
    {
     "name": "stdout",
     "output_type": "stream",
     "text": [
      "shipment mode ['Air' 'Truck' 'Air Charter' 'Ocean'] \n",
      "\n",
      "countries [\"Côte d'Ivoire\" 'Vietnam' 'Nigeria' 'Tanzania' 'Zambia' 'Rwanda' 'Haiti'\n",
      " 'Ethiopia' 'Guyana' 'Zimbabwe' 'Namibia' 'Botswana' 'Mozambique' 'Kenya'\n",
      " 'Uganda' 'Senegal' 'Benin' 'Lesotho' 'Swaziland' 'Angola' 'Pakistan'\n",
      " 'Sierra Leone' 'Cameroon' 'South Sudan' 'Burundi' 'South Africa' 'Malawi'\n",
      " 'Congo, DRC' 'Dominican Republic' 'Sudan' 'Mali' 'Ghana' 'Togo'\n",
      " 'Afghanistan' 'Guatemala' 'Liberia' 'Guinea' 'Libya'] \n",
      "\n",
      "manufacturing ['Ranbaxy Fine Chemicals LTD' 'Aurobindo Unit III, India'\n",
      " 'ABBVIE GmbH & Co.KG Wiesbaden' 'Ranbaxy, Paonta Shahib, India'\n",
      " 'Trinity Biotech, Plc' 'Cipla, Goa, India' 'Premier Med. Corp Ltd. India'\n",
      " 'BMS Meymac, France' 'Chembio Diagnostics Sys. Inc.'\n",
      " 'ABBVIE Ludwigshafen Germany' 'Inverness Japan'\n",
      " 'Pacific Biotech, Thailand' 'Standard Diagnostics, Korea'\n",
      " 'Gilead(Nycomed) Oranienburg DE' 'Bio-Rad Laboratories'\n",
      " 'Mylan (formerly Matrix) Nashik' 'Novartis Pharma AG, Switzerland'\n",
      " 'Not Applicable' 'Ipca Dadra/Nagar Haveli IN' 'MSD, Haarlem, NL'\n",
      " 'Gland Pharma Ltd Pally Factory' 'ABBVIE (Abbott) Logis. UK'\n",
      " 'Hetero Unit III Hyderabad IN' 'ABBVIE (Abbott) France'\n",
      " 'Strides, Bangalore, India.' 'Cipla, Patalganga, India'\n",
      " 'Aspen-OSD, Port Elizabeth, SA' 'KHB Test Kit Facility, Shanghai China'\n",
      " 'Inverness USA' 'OMEGA Diagnostics, UK' 'Roche Madrid'\n",
      " 'INVERNESS ORGENICS LINE' 'Novartis Pharma Suffern, USA' 'Roche Basel'\n",
      " \"ABBVIE (Abbott) St. P'burg USA\" 'GSK Mississauga (Canada)'\n",
      " 'Micro Labs Ltd. (Brown & Burk), India' 'Meditab (for Cipla) Daman IN'\n",
      " 'Medopharm Malur Factory, INDIA' 'Orasure Technologies, Inc USA'\n",
      " 'Weifa A.S., Hausmanngt. 6, P.O. Box 9113 GrÃ¸nland, 0133, Oslo, Norway'\n",
      " 'MSD Manati, Puerto Rico, (USA)' 'MSD Elkton USA' 'GSK Ware (UK)'\n",
      " 'Emcure Plot No.P-2, I.T-B.T. Park, Phase II, MIDC, Hinjwadi, Pune, India'\n",
      " 'Alere Medical Co., Ltd.' 'Premier Medical Corporation'\n",
      " 'Janssen-Cilag, Latina, IT' 'Aurobindo Unit VII, IN'\n",
      " 'Micro labs, Verna, Goa, India' 'Orasure Technologies, Inc'\n",
      " 'Mylan,  H-12 & H-13, India' 'Hetero, Jadcherla, unit 5, IN'\n",
      " 'Bristol-Myers Squibb Anagni IT' 'Medochemie Factory A, CY'\n",
      " 'Cipla Ltd A-42 MIDC Mahar. IN' 'bioLytical Laboratories'\n",
      " 'EY Laboratories, USA' 'Micro Labs, Hosur, India'\n",
      " 'Remedica, Limassol, Cyprus' 'INVERNESS ANY'\n",
      " 'Guilin OSD site, No 17, China' 'Cipla, Kurkumbh, India'\n",
      " 'GSK Barnard Castle UK' 'Janssen Ortho LLC, Puerto Rico'\n",
      " 'Gland Pharma, Hyderabad, IN' 'MSD Patheon, Canada' 'Access BIO, L.C.'\n",
      " 'Human Diagnostic' 'BMS Evansville, US' 'Mepro Pharm Wadhwan Unit II'\n",
      " 'Ranbaxy per Shasun Pharma Ltd' 'Ranbaxy per Shasun Pharma'\n",
      " 'Macleods Daman Plant INDIA']\n"
     ]
    }
   ],
   "source": [
    "shipment_mode = DataSetClean['Shipment Mode'].unique()\n",
    "print('shipment mode', shipment_mode, '\\n')\n",
    "\n",
    "countries = DataSetClean['Country'].unique()\n",
    "print('countries', countries, '\\n')\n",
    "\n",
    "manufacturing = DataSetClean['Manufacturing Site'].unique()\n",
    "print('manufacturing', manufacturing)"
   ]
  },
  {
   "cell_type": "code",
   "execution_count": 117,
   "metadata": {},
   "outputs": [],
   "source": [
    "DataSetClean['country_encoded'] = DataSetClean['Country'].map( {\n",
    "    'South Africa': 1, \n",
    "    'Nigeria': 2,\n",
    "    \"Côte d'Ivoire\": 3, \n",
    "    'Uganda': 4,\n",
    "    'Vietnam': 5,\n",
    "    'Zambia': 6, \n",
    "    'Haiti': 7, \n",
    "    'Mozambique': 8,\n",
    "    'Zimbabwe': 9,\n",
    "    'Tanzania': 10, \n",
    "    'Rwanda': 11, \n",
    "    'Congo, DRC': 12, \n",
    "    'Guyana': 13, \n",
    "    'Ethiopia': 14,\n",
    "    'South Sudan': 15,\n",
    "    'Kenya': 16, \n",
    "    'Burundi': 17, \n",
    "    'Namibia': 18, \n",
    "    'Cameroon': 19, \n",
    "    'Botswana': 20, \n",
    "    'Ghana': 21, \n",
    "    'Dominican Republic': 22, \n",
    "    'Sudan': 23, \n",
    "    'Swaziland': 24,\n",
    "    'Mali': 25, \n",
    "    'Pakistan': 26,\n",
    "    'Guatemala': 27,\n",
    "    'Malawi': 28, \n",
    "    'Benin': 29, \n",
    "    'Lebanon': 30, \n",
    "    'Libya': 31, \n",
    "    'Angola': 32, \n",
    "    'Liberia': 33,\n",
    "    'Lesotho': 34,\n",
    "    'Sierra Leone': 35,\n",
    "    'Togo': 36, \n",
    "    'Afghanistan': 37,\n",
    "    'Senegal': 38, \n",
    "    'Kyrgyzstan': 39,\n",
    "    'Burkina Faso': 40,\n",
    "    'Kazakhstan': 41,\n",
    "    'Guinea': 42,\n",
    "    'Belize': 43 } ).astype(int)\n",
    "DataSetClean['shipment_mode_encoded'] = DataSetClean['Shipment Mode'].map({ \n",
    "    'Air': 1,\n",
    "    'Truck': 2,\n",
    "    'Air Charter': 3,\n",
    "    'Ocean': 4 }).astype(int)\n",
    "\n",
    "DataSetClean['manufacturing_site_encoded'] = DataSetClean['Manufacturing Site'].map({ \n",
    "    'Ranbaxy Fine Chemicals LTD': 1,\n",
    "    'Aurobindo Unit III, India': 2,\n",
    "    'ABBVIE GmbH & Co.KG Wiesbaden': 3,\n",
    "    'Ranbaxy, Paonta Shahib, India': 4,\n",
    "    'Trinity Biotech, Plc': 5,\n",
    "    'Cipla, Goa, India': 6,\n",
    "    'Premier Med. Corp Ltd. India': 7,\n",
    "    'BMS Meymac, France': 8,\n",
    "    'Chembio Diagnostics Sys. Inc.': 9,\n",
    "    'ABBVIE Ludwigshafen Germany': 10,\n",
    "    'Inverness Japan': 11,\n",
    "    'Pacific Biotech, Thailand': 12,\n",
    "    'Standard Diagnostics, Korea': 13,\n",
    "    'Gilead(Nycomed) Oranienburg DE': 14,\n",
    "    'Bio-Rad Laboratories': 15,\n",
    "    'Mylan (formerly Matrix) Nashik': 16,\n",
    "    'Novartis Pharma AG, Switzerland': 17,\n",
    "    'Not Applicable': 18,\n",
    "    'Ipca Dadra/Nagar Haveli IN': 19,\n",
    "    'MSD, Haarlem, NL': 20,\n",
    "    'Gland Pharma Ltd Pally Factory': 21,\n",
    "    'ABBVIE (Abbott) Logis. UK': 22,\n",
    "    'Hetero Unit III Hyderabad IN': 23,\n",
    "    'ABBVIE (Abbott) France': 24,\n",
    "    'Strides, Bangalore, India.': 25,\n",
    "    'Cipla, Patalganga, India': 26,\n",
    "    'Aspen-OSD, Port Elizabeth, SA': 27,\n",
    "    'KHB Test Kit Facility, Shanghai China': 28,\n",
    "    'Inverness USA': 29,\n",
    "    \"MSD Midrand, J'burg, SA\": 30,\n",
    "    'OMEGA Diagnostics, UK': 31,\n",
    "    'Roche Madrid': 32,\n",
    "    'INVERNESS ORGENICS LINE': 33,\n",
    "    'GSK Aranda': 34,\n",
    "    'Novartis Pharma Suffern, USA': 35,\n",
    "    'Roche Basel': 36,\n",
    "    \"ABBVIE (Abbott) St. P'burg USA\": 37,\n",
    "    'GSK Mississauga (Canada)': 38,\n",
    "    'Micro Labs Ltd. (Brown & Burk), India': 39,\n",
    "    'Meditab (for Cipla) Daman IN': 40,\n",
    "    'Medopharm Malur Factory, INDIA': 41,\n",
    "    'Orasure Technologies, Inc USA': 42,\n",
    "    'Weifa A.S., Hausmanngt. 6, P.O. Box 9113 GrÃ¸nland, 0133, Oslo, Norway': 43,\n",
    "    'GSK Cape Town Factory (South Africa)': 44,\n",
    "    'MSD Manati, Puerto Rico, (USA)': 45,\n",
    "    'MSD Elkton USA': 46,\n",
    "    'GSK Ware (UK)': 47,\n",
    "    'MSD Patheon, Canada': 48,\n",
    "    'GSK Crawley': 49,\n",
    "    'Emcure Plot No.P-2, I.T-B.T. Park, Phase II, MIDC, Hinjwadi, Pune, India': 50,\n",
    "    'MSD South Granville Australia': 51,\n",
    "    'Alere Medical Co., Ltd.': 52,\n",
    "    'Premier Medical Corporation': 53,\n",
    "    'Janssen-Cilag, Latina, IT': 54,\n",
    "    'Aurobindo Unit VII, IN': 55,\n",
    "    'Micro labs, Verna, Goa, India': 56,\n",
    "    'Orasure Technologies, Inc': 57,\n",
    "    'Mylan,  H-12 & H-13, India': 58,\n",
    "    'Hetero, Jadcherla, unit 5, IN': 59,\n",
    "    'Bristol-Myers Squibb Anagni IT': 60,\n",
    "    'Medochemie Factory A, CY': 61,\n",
    "    'Cipla Ltd A-42 MIDC Mahar. IN': 62,\n",
    "    'bioLytical Laboratories': 63,\n",
    "    'EY Laboratories, USA': 64,\n",
    "    'Micro Labs, Hosur, India': 65,\n",
    "    'Remedica, Limassol, Cyprus': 66,\n",
    "    'INVERNESS ANY': 67,\n",
    "    'Guilin OSD site, No 17, China': 68,\n",
    "    'Cipla, Kurkumbh, India': 69,\n",
    "    'GSK Barnard Castle UK': 70,\n",
    "    'Janssen Ortho LLC, Puerto Rico': 71,\n",
    "    'Gland Pharma, Hyderabad, IN': 72,\n",
    "    'Access BIO, L.C.': 73,\n",
    "    'Human Diagnostic': 74,\n",
    "    'BMS Evansville, US': 75,\n",
    "    'Mepro Pharm Wadhwan Unit II': 76,\n",
    "    'Ranbaxy per Shasun Pharma Ltd': 77,\n",
    "    'Ranbaxy per Shasun Pharma': 78,\n",
    "    'Macleods Daman Plant INDIA': 79\n",
    "}).astype(int)"
   ]
  },
  {
   "cell_type": "markdown",
   "metadata": {},
   "source": [
    "# Change data type of columns"
   ]
  },
  {
   "cell_type": "code",
   "execution_count": 118,
   "metadata": {
    "scrolled": false
   },
   "outputs": [
    {
     "data": {
      "text/plain": [
       "ID                                int64\n",
       "Project Code                     object\n",
       "PQ #                             object\n",
       "PO / SO #                        object\n",
       "ASN/DN #                         object\n",
       "Country                          object\n",
       "Managed By                       object\n",
       "Fulfill Via                      object\n",
       "Vendor INCO Term                 object\n",
       "Shipment Mode                    object\n",
       "PQ First Sent to Client Date     object\n",
       "PO Sent to Vendor Date           object\n",
       "Scheduled Delivery Date          object\n",
       "Delivered to Client Date         object\n",
       "Delivery Recorded Date           object\n",
       "Product Group                    object\n",
       "Sub Classification               object\n",
       "Vendor                           object\n",
       "Item Description                 object\n",
       "Molecule/Test Type               object\n",
       "Brand                            object\n",
       "Dosage                           object\n",
       "Dosage Form                      object\n",
       "Unit of Measure (Per Pack)        int64\n",
       "Line Item Quantity                int64\n",
       "Line Item Value                 float64\n",
       "Pack Price                      float64\n",
       "Unit Price                      float64\n",
       "Manufacturing Site               object\n",
       "First Line Designation           object\n",
       "Weight (Kilograms)               object\n",
       "Freight_Cost_USD                 object\n",
       "Line Item Insurance (USD)        object\n",
       "Freight_Cost_USD_Clean          float64\n",
       "Weight_Kilograms_Clean            int64\n",
       "country_encoded                   int64\n",
       "shipment_mode_encoded             int64\n",
       "manufacturing_site_encoded        int64\n",
       "dtype: object"
      ]
     },
     "execution_count": 118,
     "metadata": {},
     "output_type": "execute_result"
    }
   ],
   "source": [
    "DataSetClean['Freight_Cost_USD_Clean'] = pd.to_numeric(DataSetClean['Freight_Cost_USD_Clean'])\n",
    "DataSetClean['Weight_Kilograms_Clean'] = pd.to_numeric(DataSetClean['Weight_Kilograms_Clean'])\n",
    "DataSetClean.dtypes"
   ]
  },
  {
   "cell_type": "markdown",
   "metadata": {},
   "source": [
    "# Machine Learning Modeling"
   ]
  },
  {
   "cell_type": "code",
   "execution_count": 119,
   "metadata": {
    "scrolled": false
   },
   "outputs": [
    {
     "data": {
      "text/html": [
       "<div>\n",
       "<style scoped>\n",
       "    .dataframe tbody tr th:only-of-type {\n",
       "        vertical-align: middle;\n",
       "    }\n",
       "\n",
       "    .dataframe tbody tr th {\n",
       "        vertical-align: top;\n",
       "    }\n",
       "\n",
       "    .dataframe thead th {\n",
       "        text-align: right;\n",
       "    }\n",
       "</style>\n",
       "<table border=\"1\" class=\"dataframe\">\n",
       "  <thead>\n",
       "    <tr style=\"text-align: right;\">\n",
       "      <th></th>\n",
       "      <th>Unit of Measure (Per Pack)</th>\n",
       "      <th>Line Item Quantity</th>\n",
       "      <th>Pack Price</th>\n",
       "      <th>Unit Price</th>\n",
       "      <th>Weight_Kilograms_Clean</th>\n",
       "      <th>country_encoded</th>\n",
       "      <th>shipment_mode_encoded</th>\n",
       "      <th>manufacturing_site_encoded</th>\n",
       "    </tr>\n",
       "  </thead>\n",
       "  <tbody>\n",
       "    <tr>\n",
       "      <th>0</th>\n",
       "      <td>30</td>\n",
       "      <td>19</td>\n",
       "      <td>29.00</td>\n",
       "      <td>0.97</td>\n",
       "      <td>13</td>\n",
       "      <td>3</td>\n",
       "      <td>1</td>\n",
       "      <td>1</td>\n",
       "    </tr>\n",
       "    <tr>\n",
       "      <th>1</th>\n",
       "      <td>240</td>\n",
       "      <td>1000</td>\n",
       "      <td>6.20</td>\n",
       "      <td>0.03</td>\n",
       "      <td>358</td>\n",
       "      <td>5</td>\n",
       "      <td>1</td>\n",
       "      <td>2</td>\n",
       "    </tr>\n",
       "    <tr>\n",
       "      <th>2</th>\n",
       "      <td>100</td>\n",
       "      <td>500</td>\n",
       "      <td>80.00</td>\n",
       "      <td>0.80</td>\n",
       "      <td>171</td>\n",
       "      <td>3</td>\n",
       "      <td>1</td>\n",
       "      <td>3</td>\n",
       "    </tr>\n",
       "    <tr>\n",
       "      <th>3</th>\n",
       "      <td>60</td>\n",
       "      <td>31920</td>\n",
       "      <td>3.99</td>\n",
       "      <td>0.07</td>\n",
       "      <td>1855</td>\n",
       "      <td>5</td>\n",
       "      <td>1</td>\n",
       "      <td>4</td>\n",
       "    </tr>\n",
       "    <tr>\n",
       "      <th>4</th>\n",
       "      <td>60</td>\n",
       "      <td>38000</td>\n",
       "      <td>3.20</td>\n",
       "      <td>0.05</td>\n",
       "      <td>7590</td>\n",
       "      <td>5</td>\n",
       "      <td>1</td>\n",
       "      <td>2</td>\n",
       "    </tr>\n",
       "    <tr>\n",
       "      <th>...</th>\n",
       "      <td>...</td>\n",
       "      <td>...</td>\n",
       "      <td>...</td>\n",
       "      <td>...</td>\n",
       "      <td>...</td>\n",
       "      <td>...</td>\n",
       "      <td>...</td>\n",
       "      <td>...</td>\n",
       "    </tr>\n",
       "    <tr>\n",
       "      <th>10316</th>\n",
       "      <td>60</td>\n",
       "      <td>15000</td>\n",
       "      <td>6.52</td>\n",
       "      <td>0.11</td>\n",
       "      <td>1547</td>\n",
       "      <td>2</td>\n",
       "      <td>3</td>\n",
       "      <td>2</td>\n",
       "    </tr>\n",
       "    <tr>\n",
       "      <th>10317</th>\n",
       "      <td>30</td>\n",
       "      <td>6724</td>\n",
       "      <td>3.12</td>\n",
       "      <td>0.10</td>\n",
       "      <td>6183</td>\n",
       "      <td>2</td>\n",
       "      <td>1</td>\n",
       "      <td>25</td>\n",
       "    </tr>\n",
       "    <tr>\n",
       "      <th>10318</th>\n",
       "      <td>60</td>\n",
       "      <td>205243</td>\n",
       "      <td>3.60</td>\n",
       "      <td>0.06</td>\n",
       "      <td>25880</td>\n",
       "      <td>9</td>\n",
       "      <td>2</td>\n",
       "      <td>6</td>\n",
       "    </tr>\n",
       "    <tr>\n",
       "      <th>10319</th>\n",
       "      <td>60</td>\n",
       "      <td>166571</td>\n",
       "      <td>3.60</td>\n",
       "      <td>0.06</td>\n",
       "      <td>25880</td>\n",
       "      <td>9</td>\n",
       "      <td>2</td>\n",
       "      <td>58</td>\n",
       "    </tr>\n",
       "    <tr>\n",
       "      <th>10320</th>\n",
       "      <td>60</td>\n",
       "      <td>21072</td>\n",
       "      <td>6.52</td>\n",
       "      <td>0.11</td>\n",
       "      <td>4426</td>\n",
       "      <td>3</td>\n",
       "      <td>2</td>\n",
       "      <td>23</td>\n",
       "    </tr>\n",
       "  </tbody>\n",
       "</table>\n",
       "<p>8182 rows × 8 columns</p>\n",
       "</div>"
      ],
      "text/plain": [
       "       Unit of Measure (Per Pack)  Line Item Quantity           Pack Price  \\\n",
       "0                              30                  19                29.00   \n",
       "1                             240                1000                 6.20   \n",
       "2                             100                 500                80.00   \n",
       "3                              60               31920                 3.99   \n",
       "4                              60               38000                 3.20   \n",
       "...                           ...                 ...                  ...   \n",
       "10316                          60               15000                 6.52   \n",
       "10317                          30                6724                 3.12   \n",
       "10318                          60              205243                 3.60   \n",
       "10319                          60              166571                 3.60   \n",
       "10320                          60               21072                 6.52   \n",
       "\n",
       "                Unit Price  Weight_Kilograms_Clean  country_encoded  \\\n",
       "0                     0.97                      13                3   \n",
       "1                     0.03                     358                5   \n",
       "2                     0.80                     171                3   \n",
       "3                     0.07                    1855                5   \n",
       "4                     0.05                    7590                5   \n",
       "...                    ...                     ...              ...   \n",
       "10316                 0.11                    1547                2   \n",
       "10317                 0.10                    6183                2   \n",
       "10318                 0.06                   25880                9   \n",
       "10319                 0.06                   25880                9   \n",
       "10320                 0.11                    4426                3   \n",
       "\n",
       "       shipment_mode_encoded  manufacturing_site_encoded  \n",
       "0                          1                           1  \n",
       "1                          1                           2  \n",
       "2                          1                           3  \n",
       "3                          1                           4  \n",
       "4                          1                           2  \n",
       "...                      ...                         ...  \n",
       "10316                      3                           2  \n",
       "10317                      1                          25  \n",
       "10318                      2                           6  \n",
       "10319                      2                          58  \n",
       "10320                      2                          23  \n",
       "\n",
       "[8182 rows x 8 columns]"
      ]
     },
     "execution_count": 119,
     "metadata": {},
     "output_type": "execute_result"
    }
   ],
   "source": [
    "predictors = DataSetClean[['Unit of Measure (Per Pack)', 'Line Item Quantity', 'Pack Price', 'Unit Price', 'Weight_Kilograms_Clean',\n",
    "                          'country_encoded', 'shipment_mode_encoded', 'manufacturing_site_encoded']]\n",
    "predictors"
   ]
  },
  {
   "cell_type": "code",
   "execution_count": 120,
   "metadata": {},
   "outputs": [
    {
     "data": {
      "text/html": [
       "<div>\n",
       "<style scoped>\n",
       "    .dataframe tbody tr th:only-of-type {\n",
       "        vertical-align: middle;\n",
       "    }\n",
       "\n",
       "    .dataframe tbody tr th {\n",
       "        vertical-align: top;\n",
       "    }\n",
       "\n",
       "    .dataframe thead th {\n",
       "        text-align: right;\n",
       "    }\n",
       "</style>\n",
       "<table border=\"1\" class=\"dataframe\">\n",
       "  <thead>\n",
       "    <tr style=\"text-align: right;\">\n",
       "      <th></th>\n",
       "      <th>Unit of Measure (Per Pack)</th>\n",
       "      <th>Line Item Quantity</th>\n",
       "      <th>Pack Price</th>\n",
       "      <th>Unit Price</th>\n",
       "      <th>Weight_Kilograms_Clean</th>\n",
       "      <th>country_encoded</th>\n",
       "      <th>shipment_mode_encoded</th>\n",
       "      <th>manufacturing_site_encoded</th>\n",
       "    </tr>\n",
       "  </thead>\n",
       "  <tbody>\n",
       "    <tr>\n",
       "      <th>count</th>\n",
       "      <td>8,182.00</td>\n",
       "      <td>8,182.00</td>\n",
       "      <td>8,182.00</td>\n",
       "      <td>8,182.00</td>\n",
       "      <td>8,182.00</td>\n",
       "      <td>8,182.00</td>\n",
       "      <td>8,182.00</td>\n",
       "      <td>8,182.00</td>\n",
       "    </tr>\n",
       "    <tr>\n",
       "      <th>mean</th>\n",
       "      <td>75.33</td>\n",
       "      <td>21,201.81</td>\n",
       "      <td>20.68</td>\n",
       "      <td>0.60</td>\n",
       "      <td>4,545.52</td>\n",
       "      <td>7.52</td>\n",
       "      <td>1.48</td>\n",
       "      <td>15.84</td>\n",
       "    </tr>\n",
       "    <tr>\n",
       "      <th>std</th>\n",
       "      <td>76.55</td>\n",
       "      <td>42,549.60</td>\n",
       "      <td>41.77</td>\n",
       "      <td>2.35</td>\n",
       "      <td>13,661.93</td>\n",
       "      <td>5.41</td>\n",
       "      <td>0.79</td>\n",
       "      <td>15.85</td>\n",
       "    </tr>\n",
       "    <tr>\n",
       "      <th>min</th>\n",
       "      <td>1.00</td>\n",
       "      <td>1.00</td>\n",
       "      <td>0.00</td>\n",
       "      <td>0.00</td>\n",
       "      <td>0.00</td>\n",
       "      <td>1.00</td>\n",
       "      <td>1.00</td>\n",
       "      <td>1.00</td>\n",
       "    </tr>\n",
       "    <tr>\n",
       "      <th>25%</th>\n",
       "      <td>30.00</td>\n",
       "      <td>847.25</td>\n",
       "      <td>3.78</td>\n",
       "      <td>0.07</td>\n",
       "      <td>283.00</td>\n",
       "      <td>3.00</td>\n",
       "      <td>1.00</td>\n",
       "      <td>2.00</td>\n",
       "    </tr>\n",
       "    <tr>\n",
       "      <th>50%</th>\n",
       "      <td>60.00</td>\n",
       "      <td>4,449.50</td>\n",
       "      <td>8.26</td>\n",
       "      <td>0.15</td>\n",
       "      <td>1,351.50</td>\n",
       "      <td>6.00</td>\n",
       "      <td>1.00</td>\n",
       "      <td>11.00</td>\n",
       "    </tr>\n",
       "    <tr>\n",
       "      <th>75%</th>\n",
       "      <td>90.00</td>\n",
       "      <td>21,505.50</td>\n",
       "      <td>20.50</td>\n",
       "      <td>0.41</td>\n",
       "      <td>4,481.25</td>\n",
       "      <td>10.00</td>\n",
       "      <td>2.00</td>\n",
       "      <td>23.00</td>\n",
       "    </tr>\n",
       "    <tr>\n",
       "      <th>max</th>\n",
       "      <td>1,000.00</td>\n",
       "      <td>619,999.00</td>\n",
       "      <td>1,250.00</td>\n",
       "      <td>30.00</td>\n",
       "      <td>857,354.00</td>\n",
       "      <td>42.00</td>\n",
       "      <td>4.00</td>\n",
       "      <td>79.00</td>\n",
       "    </tr>\n",
       "  </tbody>\n",
       "</table>\n",
       "</div>"
      ],
      "text/plain": [
       "       Unit of Measure (Per Pack)   Line Item Quantity           Pack Price  \\\n",
       "count                    8,182.00             8,182.00             8,182.00   \n",
       "mean                        75.33            21,201.81                20.68   \n",
       "std                         76.55            42,549.60                41.77   \n",
       "min                          1.00                 1.00                 0.00   \n",
       "25%                         30.00               847.25                 3.78   \n",
       "50%                         60.00             4,449.50                 8.26   \n",
       "75%                         90.00            21,505.50                20.50   \n",
       "max                      1,000.00           619,999.00             1,250.00   \n",
       "\n",
       "                Unit Price  Weight_Kilograms_Clean      country_encoded  \\\n",
       "count             8,182.00                8,182.00             8,182.00   \n",
       "mean                  0.60                4,545.52                 7.52   \n",
       "std                   2.35               13,661.93                 5.41   \n",
       "min                   0.00                    0.00                 1.00   \n",
       "25%                   0.07                  283.00                 3.00   \n",
       "50%                   0.15                1,351.50                 6.00   \n",
       "75%                   0.41                4,481.25                10.00   \n",
       "max                  30.00              857,354.00                42.00   \n",
       "\n",
       "       shipment_mode_encoded  manufacturing_site_encoded  \n",
       "count               8,182.00                    8,182.00  \n",
       "mean                    1.48                       15.84  \n",
       "std                     0.79                       15.85  \n",
       "min                     1.00                        1.00  \n",
       "25%                     1.00                        2.00  \n",
       "50%                     1.00                       11.00  \n",
       "75%                     2.00                       23.00  \n",
       "max                     4.00                       79.00  "
      ]
     },
     "execution_count": 120,
     "metadata": {},
     "output_type": "execute_result"
    }
   ],
   "source": [
    "predictors.describe()"
   ]
  },
  {
   "cell_type": "code",
   "execution_count": 121,
   "metadata": {},
   "outputs": [
    {
     "data": {
      "text/plain": [
       "0                     780.34\n",
       "1                   4,521.50\n",
       "2                   1,653.78\n",
       "3                  16,007.06\n",
       "4                  45,450.08\n",
       "                ...         \n",
       "10316               3,410.00\n",
       "10317              47,281.56\n",
       "10318              46,111.55\n",
       "10319              46,111.55\n",
       "10320              14,734.92\n",
       "Name: Freight_Cost_USD_Clean, Length: 8182, dtype: float64"
      ]
     },
     "execution_count": 121,
     "metadata": {},
     "output_type": "execute_result"
    }
   ],
   "source": [
    "targets = DataSetClean.Freight_Cost_USD_Clean\n",
    "targets"
   ]
  },
  {
   "cell_type": "markdown",
   "metadata": {},
   "source": [
    "# Correlations"
   ]
  },
  {
   "cell_type": "code",
   "execution_count": 122,
   "metadata": {
    "scrolled": true
   },
   "outputs": [
    {
     "data": {
      "text/plain": [
       "<seaborn.axisgrid.PairGrid at 0x7f197c70b910>"
      ]
     },
     "execution_count": 122,
     "metadata": {},
     "output_type": "execute_result"
    },
    {
     "data": {
      "image/png": "[encoded data removed]",
      "text/plain": [
       "<Figure size 1764x504 with 5 Axes>"
      ]
     },
     "metadata": {
      "needs_background": "light"
     },
     "output_type": "display_data"
    }
   ],
   "source": [
    "sn.pairplot(DataSetClean, \n",
    "            x_vars=['Unit of Measure (Per Pack)', 'Line Item Quantity', 'Line Item Value', 'Pack Price', 'Unit Price'],\n",
    "            y_vars='Freight_Cost_USD_Clean', height=7, aspect=0.7, kind='reg')"
   ]
  },
  {
   "cell_type": "markdown",
   "metadata": {},
   "source": [
    "# Test and Training Data"
   ]
  },
  {
   "cell_type": "code",
   "execution_count": 123,
   "metadata": {
    "scrolled": true
   },
   "outputs": [
    {
     "name": "stdout",
     "output_type": "stream",
     "text": [
      "test features shape:  (1637, 8)\n",
      "test targets shape:  (1637,)\n",
      "train features shape:  (6545, 8)\n",
      "train targets shape:  (6545,)\n"
     ]
    }
   ],
   "source": [
    "train_features, test_features, train_targets, test_targets = train_test_split(predictors, targets, test_size=0.2, random_state=3)\n",
    "\n",
    "print('test features shape: ', test_features.shape)\n",
    "print('test targets shape: ', test_targets.shape)\n",
    "\n",
    "print('train features shape: ', train_features.shape)\n",
    "print('train targets shape: ', train_targets.shape)"
   ]
  },
  {
   "cell_type": "markdown",
   "metadata": {},
   "source": [
    "# Decision Tree Regressor"
   ]
  },
  {
   "cell_type": "code",
   "execution_count": 124,
   "metadata": {},
   "outputs": [
    {
     "name": "stdout",
     "output_type": "stream",
     "text": [
      "node_count =>  4361\n"
     ]
    },
    {
     "data": {
      "text/plain": [
       "{'criterion': 'mse',\n",
       " 'max_depth': 15,\n",
       " 'max_features': None,\n",
       " 'max_leaf_nodes': None,\n",
       " 'min_impurity_decrease': 0.0,\n",
       " 'min_impurity_split': None,\n",
       " 'min_samples_leaf': 1,\n",
       " 'min_samples_split': 2,\n",
       " 'min_weight_fraction_leaf': 0.0,\n",
       " 'presort': False,\n",
       " 'random_state': None,\n",
       " 'splitter': 'best'}"
      ]
     },
     "execution_count": 124,
     "metadata": {},
     "output_type": "execute_result"
    }
   ],
   "source": [
    "tree_regressor = DecisionTreeRegressor(max_depth=15) # MAE 6.08 minutes, R2 -1.20\n",
    "\n",
    "tree_regressor = tree_regressor.fit(train_features, train_targets)\n",
    "\n",
    "print('node_count => ', tree_regressor.tree_.node_count)\n",
    "\n",
    "tree_regressor.get_params()"
   ]
  },
  {
   "cell_type": "code",
   "execution_count": 125,
   "metadata": {
    "scrolled": false
   },
   "outputs": [
    {
     "data": {
      "image/png": "[encoded data removed]",
      "text/plain": [
       "<Figure size 432x288 with 1 Axes>"
      ]
     },
     "metadata": {},
     "output_type": "display_data"
    }
   ],
   "source": [
    "# Saving feature names for later use\n",
    "feature_list = list(predictors.columns)\n",
    "importances = list(tree_regressor.feature_importances_)\n",
    "\n",
    "# Set the style\n",
    "plt.style.use('fivethirtyeight')\n",
    "\n",
    "# list of x locations for plotting\n",
    "x_values = list(range(len(importances)))\n",
    "\n",
    "# Make a bar chart\n",
    "plt.bar(x_values, importances, orientation = 'vertical')\n",
    "\n",
    "# Tick labels for x axis\n",
    "plt.xticks(x_values, feature_list, rotation='vertical')\n",
    "\n",
    "# Axis labels and title\n",
    "plt.ylabel('Importance'); plt.xlabel('Variable'); plt.title('Variable Importances');"
   ]
  },
  {
   "cell_type": "markdown",
   "metadata": {},
   "source": [
    "# Verify model using Test Data"
   ]
  },
  {
   "cell_type": "code",
   "execution_count": 126,
   "metadata": {
    "scrolled": true
   },
   "outputs": [
    {
     "data": {
      "text/html": [
       "<div>\n",
       "<style scoped>\n",
       "    .dataframe tbody tr th:only-of-type {\n",
       "        vertical-align: middle;\n",
       "    }\n",
       "\n",
       "    .dataframe tbody tr th {\n",
       "        vertical-align: top;\n",
       "    }\n",
       "\n",
       "    .dataframe thead th {\n",
       "        text-align: right;\n",
       "    }\n",
       "</style>\n",
       "<table border=\"1\" class=\"dataframe\">\n",
       "  <thead>\n",
       "    <tr style=\"text-align: right;\">\n",
       "      <th></th>\n",
       "      <th>Actual</th>\n",
       "      <th>Predicted</th>\n",
       "    </tr>\n",
       "  </thead>\n",
       "  <tbody>\n",
       "    <tr>\n",
       "      <th>10026</th>\n",
       "      <td>3,526.27</td>\n",
       "      <td>3,651.01</td>\n",
       "    </tr>\n",
       "    <tr>\n",
       "      <th>5425</th>\n",
       "      <td>1,400.91</td>\n",
       "      <td>604.32</td>\n",
       "    </tr>\n",
       "    <tr>\n",
       "      <th>2860</th>\n",
       "      <td>11,314.20</td>\n",
       "      <td>13,731.60</td>\n",
       "    </tr>\n",
       "    <tr>\n",
       "      <th>7063</th>\n",
       "      <td>6,036.96</td>\n",
       "      <td>5,056.74</td>\n",
       "    </tr>\n",
       "    <tr>\n",
       "      <th>1750</th>\n",
       "      <td>2,989.45</td>\n",
       "      <td>3,651.01</td>\n",
       "    </tr>\n",
       "    <tr>\n",
       "      <th>...</th>\n",
       "      <td>...</td>\n",
       "      <td>...</td>\n",
       "    </tr>\n",
       "    <tr>\n",
       "      <th>9356</th>\n",
       "      <td>2,528.69</td>\n",
       "      <td>3,651.01</td>\n",
       "    </tr>\n",
       "    <tr>\n",
       "      <th>1400</th>\n",
       "      <td>1,053.86</td>\n",
       "      <td>734.66</td>\n",
       "    </tr>\n",
       "    <tr>\n",
       "      <th>317</th>\n",
       "      <td>12,770.05</td>\n",
       "      <td>14,829.77</td>\n",
       "    </tr>\n",
       "    <tr>\n",
       "      <th>3440</th>\n",
       "      <td>365.48</td>\n",
       "      <td>350.02</td>\n",
       "    </tr>\n",
       "    <tr>\n",
       "      <th>7550</th>\n",
       "      <td>12,648.36</td>\n",
       "      <td>14,893.07</td>\n",
       "    </tr>\n",
       "  </tbody>\n",
       "</table>\n",
       "<p>1637 rows × 2 columns</p>\n",
       "</div>"
      ],
      "text/plain": [
       "                    Actual            Predicted\n",
       "10026             3,526.27             3,651.01\n",
       "5425              1,400.91               604.32\n",
       "2860             11,314.20            13,731.60\n",
       "7063              6,036.96             5,056.74\n",
       "1750              2,989.45             3,651.01\n",
       "...                    ...                  ...\n",
       "9356              2,528.69             3,651.01\n",
       "1400              1,053.86               734.66\n",
       "317              12,770.05            14,829.77\n",
       "3440                365.48               350.02\n",
       "7550             12,648.36            14,893.07\n",
       "\n",
       "[1637 rows x 2 columns]"
      ]
     },
     "execution_count": 126,
     "metadata": {},
     "output_type": "execute_result"
    }
   ],
   "source": [
    "#Predecimos para los valores del grupo Test\n",
    "tree_predictions = tree_regressor.predict(test_features)\n",
    "df = pd.DataFrame({'Actual':test_targets, 'Predicted':tree_predictions})  \n",
    "df"
   ]
  },
  {
   "cell_type": "markdown",
   "metadata": {},
   "source": [
    "# Metrics"
   ]
  },
  {
   "cell_type": "code",
   "execution_count": 127,
   "metadata": {
    "scrolled": true
   },
   "outputs": [
    {
     "name": "stdout",
     "output_type": "stream",
     "text": [
      "Mean Absolute Error:     5031.79125715209 [$]\n",
      "Root Mean Squared Error: 11680.51800714098 [$]\n",
      "Mean Squared Error:      13643.450091514469 [$]\n",
      "R Square:                6200.809584637607 [%]\n"
     ]
    },
    {
     "data": {
      "text/html": [
       "<div>\n",
       "<style scoped>\n",
       "    .dataframe tbody tr th:only-of-type {\n",
       "        vertical-align: middle;\n",
       "    }\n",
       "\n",
       "    .dataframe tbody tr th {\n",
       "        vertical-align: top;\n",
       "    }\n",
       "\n",
       "    .dataframe thead th {\n",
       "        text-align: right;\n",
       "    }\n",
       "</style>\n",
       "<table border=\"1\" class=\"dataframe\">\n",
       "  <thead>\n",
       "    <tr style=\"text-align: right;\">\n",
       "      <th></th>\n",
       "      <th>Score</th>\n",
       "      <th>Tree Desicion</th>\n",
       "    </tr>\n",
       "  </thead>\n",
       "  <tbody>\n",
       "    <tr>\n",
       "      <th>0</th>\n",
       "      <td>Mean Absolute Error</td>\n",
       "      <td>5,031.79</td>\n",
       "    </tr>\n",
       "    <tr>\n",
       "      <th>1</th>\n",
       "      <td>Root Mean Squared Error</td>\n",
       "      <td>11,680.52</td>\n",
       "    </tr>\n",
       "    <tr>\n",
       "      <th>2</th>\n",
       "      <td>Mean Squared Error</td>\n",
       "      <td>13,643.45</td>\n",
       "    </tr>\n",
       "    <tr>\n",
       "      <th>3</th>\n",
       "      <td>R Square</td>\n",
       "      <td>6,200.81</td>\n",
       "    </tr>\n",
       "  </tbody>\n",
       "</table>\n",
       "</div>"
      ],
      "text/plain": [
       "                     Score        Tree Desicion\n",
       "0      Mean Absolute Error             5,031.79\n",
       "1  Root Mean Squared Error            11,680.52\n",
       "2       Mean Squared Error            13,643.45\n",
       "3                 R Square             6,200.81"
      ]
     },
     "execution_count": 127,
     "metadata": {},
     "output_type": "execute_result"
    }
   ],
   "source": [
    "results = pd.DataFrame({'Score':['Mean Absolute Error', 'Root Mean Squared Error', 'Mean Squared Error', 'R Square']})\n",
    "tree_score = [metrics.mean_absolute_error(test_targets, tree_predictions),\n",
    "             np.sqrt(metrics.mean_squared_error(test_targets, tree_predictions)),\n",
    "             metrics.mean_squared_error(test_targets, tree_predictions)/10000,\n",
    "             metrics.r2_score(test_targets, tree_predictions)*10000]\n",
    "results['Tree Desicion'] = tree_score\n",
    "\n",
    "print('Mean Absolute Error:     {} [$]'.format(results.iloc[0, 1]))    \n",
    "print('Root Mean Squared Error: {} [$]'.format(results.iloc[1, 1]))\n",
    "print('Mean Squared Error:      {} [$]'.format(results.iloc[2, 1]))\n",
    "print('R Square:                {} [%]'.format(results.iloc[3, 1])) # 1 is better\n",
    "results"
   ]
  },
  {
   "cell_type": "markdown",
   "metadata": {},
   "source": [
    "# Random Forest Regressor"
   ]
  },
  {
   "cell_type": "code",
   "execution_count": 128,
   "metadata": {},
   "outputs": [
    {
     "data": {
      "text/plain": [
       "{'bootstrap': True,\n",
       " 'criterion': 'mse',\n",
       " 'max_depth': None,\n",
       " 'max_features': 'auto',\n",
       " 'max_leaf_nodes': None,\n",
       " 'min_impurity_decrease': 0.0,\n",
       " 'min_impurity_split': None,\n",
       " 'min_samples_leaf': 1,\n",
       " 'min_samples_split': 2,\n",
       " 'min_weight_fraction_leaf': 0.0,\n",
       " 'n_estimators': 500,\n",
       " 'n_jobs': None,\n",
       " 'oob_score': False,\n",
       " 'random_state': 3,\n",
       " 'verbose': 0,\n",
       " 'warm_start': False}"
      ]
     },
     "execution_count": 128,
     "metadata": {},
     "output_type": "execute_result"
    }
   ],
   "source": [
    "rand_forest_regressor = RandomForestRegressor(n_estimators=500, random_state=3)\n",
    "\n",
    "rand_forest_regressor = rand_forest_regressor.fit(train_features, train_targets)\n",
    "\n",
    "rand_forest_regressor.get_params()"
   ]
  },
  {
   "cell_type": "code",
   "execution_count": 129,
   "metadata": {
    "scrolled": true
   },
   "outputs": [
    {
     "data": {
      "image/png": "[encoded data removed]",
      "text/plain": [
       "<Figure size 432x288 with 1 Axes>"
      ]
     },
     "metadata": {},
     "output_type": "display_data"
    }
   ],
   "source": [
    "# Saving feature names for later use\n",
    "feature_list = list(predictors.columns)\n",
    "importances = list(rand_forest_regressor.feature_importances_)\n",
    "\n",
    "# Set the style\n",
    "plt.style.use('fivethirtyeight')\n",
    "\n",
    "# list of x locations for plotting\n",
    "x_values = list(range(len(importances)))\n",
    "\n",
    "# Make a bar chart\n",
    "plt.bar(x_values, importances, orientation='vertical')\n",
    "\n",
    "# Tick labels for x axis\n",
    "plt.xticks(x_values, feature_list, rotation='vertical')\n",
    "\n",
    "# Axis labels and title\n",
    "plt.ylabel('Importance'); plt.xlabel('Variable'); plt.title('Variable Importances');"
   ]
  },
  {
   "cell_type": "markdown",
   "metadata": {},
   "source": [
    "# Verify Model using Test Data"
   ]
  },
  {
   "cell_type": "code",
   "execution_count": 130,
   "metadata": {
    "scrolled": true
   },
   "outputs": [
    {
     "data": {
      "text/html": [
       "<div>\n",
       "<style scoped>\n",
       "    .dataframe tbody tr th:only-of-type {\n",
       "        vertical-align: middle;\n",
       "    }\n",
       "\n",
       "    .dataframe tbody tr th {\n",
       "        vertical-align: top;\n",
       "    }\n",
       "\n",
       "    .dataframe thead th {\n",
       "        text-align: right;\n",
       "    }\n",
       "</style>\n",
       "<table border=\"1\" class=\"dataframe\">\n",
       "  <thead>\n",
       "    <tr style=\"text-align: right;\">\n",
       "      <th></th>\n",
       "      <th>Actual</th>\n",
       "      <th>Predicted</th>\n",
       "    </tr>\n",
       "  </thead>\n",
       "  <tbody>\n",
       "    <tr>\n",
       "      <th>10026</th>\n",
       "      <td>3,526.27</td>\n",
       "      <td>3,832.25</td>\n",
       "    </tr>\n",
       "    <tr>\n",
       "      <th>5425</th>\n",
       "      <td>1,400.91</td>\n",
       "      <td>1,468.25</td>\n",
       "    </tr>\n",
       "    <tr>\n",
       "      <th>2860</th>\n",
       "      <td>11,314.20</td>\n",
       "      <td>13,243.27</td>\n",
       "    </tr>\n",
       "    <tr>\n",
       "      <th>7063</th>\n",
       "      <td>6,036.96</td>\n",
       "      <td>5,802.95</td>\n",
       "    </tr>\n",
       "    <tr>\n",
       "      <th>1750</th>\n",
       "      <td>2,989.45</td>\n",
       "      <td>3,964.51</td>\n",
       "    </tr>\n",
       "    <tr>\n",
       "      <th>...</th>\n",
       "      <td>...</td>\n",
       "      <td>...</td>\n",
       "    </tr>\n",
       "    <tr>\n",
       "      <th>9356</th>\n",
       "      <td>2,528.69</td>\n",
       "      <td>3,675.51</td>\n",
       "    </tr>\n",
       "    <tr>\n",
       "      <th>1400</th>\n",
       "      <td>1,053.86</td>\n",
       "      <td>1,513.39</td>\n",
       "    </tr>\n",
       "    <tr>\n",
       "      <th>317</th>\n",
       "      <td>12,770.05</td>\n",
       "      <td>14,292.23</td>\n",
       "    </tr>\n",
       "    <tr>\n",
       "      <th>3440</th>\n",
       "      <td>365.48</td>\n",
       "      <td>1,623.07</td>\n",
       "    </tr>\n",
       "    <tr>\n",
       "      <th>7550</th>\n",
       "      <td>12,648.36</td>\n",
       "      <td>15,952.38</td>\n",
       "    </tr>\n",
       "  </tbody>\n",
       "</table>\n",
       "<p>1637 rows × 2 columns</p>\n",
       "</div>"
      ],
      "text/plain": [
       "                    Actual            Predicted\n",
       "10026             3,526.27             3,832.25\n",
       "5425              1,400.91             1,468.25\n",
       "2860             11,314.20            13,243.27\n",
       "7063              6,036.96             5,802.95\n",
       "1750              2,989.45             3,964.51\n",
       "...                    ...                  ...\n",
       "9356              2,528.69             3,675.51\n",
       "1400              1,053.86             1,513.39\n",
       "317              12,770.05            14,292.23\n",
       "3440                365.48             1,623.07\n",
       "7550             12,648.36            15,952.38\n",
       "\n",
       "[1637 rows x 2 columns]"
      ]
     },
     "execution_count": 130,
     "metadata": {},
     "output_type": "execute_result"
    }
   ],
   "source": [
    "rf_predictions = rand_forest_regressor.predict(test_features)\n",
    "df = pd.DataFrame({'Actual':test_targets, 'Predicted':rf_predictions})  \n",
    "df"
   ]
  },
  {
   "cell_type": "markdown",
   "metadata": {},
   "source": [
    "# Metrics"
   ]
  },
  {
   "cell_type": "code",
   "execution_count": 131,
   "metadata": {
    "scrolled": true
   },
   "outputs": [
    {
     "name": "stdout",
     "output_type": "stream",
     "text": [
      "Mean Absolute Error:     4416.38844743828 [$]\n",
      "Root Mean Squared Error: 9219.642342163452 [$]\n",
      "Mean Squared Error:      8500.180491741317 [$]\n",
      "R Square:                7633.017745770982 [%]\n"
     ]
    },
    {
     "data": {
      "text/html": [
       "<div>\n",
       "<style scoped>\n",
       "    .dataframe tbody tr th:only-of-type {\n",
       "        vertical-align: middle;\n",
       "    }\n",
       "\n",
       "    .dataframe tbody tr th {\n",
       "        vertical-align: top;\n",
       "    }\n",
       "\n",
       "    .dataframe thead th {\n",
       "        text-align: right;\n",
       "    }\n",
       "</style>\n",
       "<table border=\"1\" class=\"dataframe\">\n",
       "  <thead>\n",
       "    <tr style=\"text-align: right;\">\n",
       "      <th></th>\n",
       "      <th>Score</th>\n",
       "      <th>Tree Desicion</th>\n",
       "      <th>Random Forest</th>\n",
       "    </tr>\n",
       "  </thead>\n",
       "  <tbody>\n",
       "    <tr>\n",
       "      <th>0</th>\n",
       "      <td>Mean Absolute Error</td>\n",
       "      <td>5,031.79</td>\n",
       "      <td>4,416.39</td>\n",
       "    </tr>\n",
       "    <tr>\n",
       "      <th>1</th>\n",
       "      <td>Root Mean Squared Error</td>\n",
       "      <td>11,680.52</td>\n",
       "      <td>9,219.64</td>\n",
       "    </tr>\n",
       "    <tr>\n",
       "      <th>2</th>\n",
       "      <td>Mean Squared Error</td>\n",
       "      <td>13,643.45</td>\n",
       "      <td>8,500.18</td>\n",
       "    </tr>\n",
       "    <tr>\n",
       "      <th>3</th>\n",
       "      <td>R Square</td>\n",
       "      <td>6,200.81</td>\n",
       "      <td>7,633.02</td>\n",
       "    </tr>\n",
       "  </tbody>\n",
       "</table>\n",
       "</div>"
      ],
      "text/plain": [
       "                     Score        Tree Desicion        Random Forest\n",
       "0      Mean Absolute Error             5,031.79             4,416.39\n",
       "1  Root Mean Squared Error            11,680.52             9,219.64\n",
       "2       Mean Squared Error            13,643.45             8,500.18\n",
       "3                 R Square             6,200.81             7,633.02"
      ]
     },
     "execution_count": 131,
     "metadata": {},
     "output_type": "execute_result"
    }
   ],
   "source": [
    "rf_score = [metrics.mean_absolute_error(test_targets, rf_predictions),\n",
    "            np.sqrt(metrics.mean_squared_error(test_targets, rf_predictions)),\n",
    "            metrics.mean_squared_error(test_targets, rf_predictions)/10000,\n",
    "            metrics.r2_score(test_targets, rf_predictions)*10000]\n",
    "results['Random Forest'] = rf_score\n",
    "\n",
    "print('Mean Absolute Error:     {} [$]'.format(results.iloc[0, 2]))    \n",
    "print('Root Mean Squared Error: {} [$]'.format(results.iloc[1, 2]))\n",
    "print('Mean Squared Error:      {} [$]'.format(results.iloc[2, 2]))\n",
    "print('R Square:                {} [%]'.format(results.iloc[3, 2])) # 1 is better\n",
    "results"
   ]
  },
  {
   "cell_type": "markdown",
   "metadata": {},
   "source": [
    "# Comparison"
   ]
  },
  {
   "cell_type": "code",
   "execution_count": 132,
   "metadata": {},
   "outputs": [
    {
     "data": {
      "application/vnd.plotly.v1+json": {
       "config": {
        "plotlyServerURL": "https://plot.ly"
       },
       "data": [
        {
         "marker": {
          "color": "indianred"
         },
         "name": "Mean Absolute Error",
         "type": "bar",
         "x": [
          "DesicionTree",
          "RandomForest"
         ],
         "y": [
          5031.79125715209,
          4416.38844743828
         ]
        },
        {
         "marker": {
          "color": "lightsalmon"
         },
         "name": "Root Mean Squared Error",
         "type": "bar",
         "x": [
          "DesicionTree",
          "RandomForest"
         ],
         "y": [
          11680.51800714098,
          9219.642342163452
         ]
        },
        {
         "marker": {
          "color": "mediumslateblue"
         },
         "name": "Mean Squared Error",
         "type": "bar",
         "x": [
          "DesicionTree",
          "RandomForest"
         ],
         "y": [
          13643.450091514469,
          8500.180491741317
         ]
        },
        {
         "marker": {
          "color": "darkslateblue"
         },
         "name": "R Square",
         "type": "bar",
         "x": [
          "DesicionTree",
          "RandomForest"
         ],
         "y": [
          6200.809584637607,
          7633.017745770982
         ]
        }
       ],
       "layout": {
        "barmode": "group",
        "template": {
         "data": {
          "bar": [
           {
            "error_x": {
             "color": "#2a3f5f"
            },
            "error_y": {
             "color": "#2a3f5f"
            },
            "marker": {
             "line": {
              "color": "#E5ECF6",
              "width": 0.5
             }
            },
            "type": "bar"
           }
          ],
          "barpolar": [
           {
            "marker": {
             "line": {
              "color": "#E5ECF6",
              "width": 0.5
             }
            },
            "type": "barpolar"
           }
          ],
          "carpet": [
           {
            "aaxis": {
             "endlinecolor": "#2a3f5f",
             "gridcolor": "white",
             "linecolor": "white",
             "minorgridcolor": "white",
             "startlinecolor": "#2a3f5f"
            },
            "baxis": {
             "endlinecolor": "#2a3f5f",
             "gridcolor": "white",
             "linecolor": "white",
             "minorgridcolor": "white",
             "startlinecolor": "#2a3f5f"
            },
            "type": "carpet"
           }
          ],
          "choropleth": [
           {
            "colorbar": {
             "outlinewidth": 0,
             "ticks": ""
            },
            "type": "choropleth"
           }
          ],
          "contour": [
           {
            "colorbar": {
             "outlinewidth": 0,
             "ticks": ""
            },
            "colorscale": [
             [
              0,
              "#0d0887"
             ],
             [
              0.1111111111111111,
              "#46039f"
             ],
             [
              0.2222222222222222,
              "#7201a8"
             ],
             [
              0.3333333333333333,
              "#9c179e"
             ],
             [
              0.4444444444444444,
              "#bd3786"
             ],
             [
              0.5555555555555556,
              "#d8576b"
             ],
             [
              0.6666666666666666,
              "#ed7953"
             ],
             [
              0.7777777777777778,
              "#fb9f3a"
             ],
             [
              0.8888888888888888,
              "#fdca26"
             ],
             [
              1,
              "#f0f921"
             ]
            ],
            "type": "contour"
           }
          ],
          "contourcarpet": [
           {
            "colorbar": {
             "outlinewidth": 0,
             "ticks": ""
            },
            "type": "contourcarpet"
           }
          ],
          "heatmap": [
           {
            "colorbar": {
             "outlinewidth": 0,
             "ticks": ""
            },
            "colorscale": [
             [
              0,
              "#0d0887"
             ],
             [
              0.1111111111111111,
              "#46039f"
             ],
             [
              0.2222222222222222,
              "#7201a8"
             ],
             [
              0.3333333333333333,
              "#9c179e"
             ],
             [
              0.4444444444444444,
              "#bd3786"
             ],
             [
              0.5555555555555556,
              "#d8576b"
             ],
             [
              0.6666666666666666,
              "#ed7953"
             ],
             [
              0.7777777777777778,
              "#fb9f3a"
             ],
             [
              0.8888888888888888,
              "#fdca26"
             ],
             [
              1,
              "#f0f921"
             ]
            ],
            "type": "heatmap"
           }
          ],
          "heatmapgl": [
           {
            "colorbar": {
             "outlinewidth": 0,
             "ticks": ""
            },
            "colorscale": [
             [
              0,
              "#0d0887"
             ],
             [
              0.1111111111111111,
              "#46039f"
             ],
             [
              0.2222222222222222,
              "#7201a8"
             ],
             [
              0.3333333333333333,
              "#9c179e"
             ],
             [
              0.4444444444444444,
              "#bd3786"
             ],
             [
              0.5555555555555556,
              "#d8576b"
             ],
             [
              0.6666666666666666,
              "#ed7953"
             ],
             [
              0.7777777777777778,
              "#fb9f3a"
             ],
             [
              0.8888888888888888,
              "#fdca26"
             ],
             [
              1,
              "#f0f921"
             ]
            ],
            "type": "heatmapgl"
           }
          ],
          "histogram": [
           {
            "marker": {
             "colorbar": {
              "outlinewidth": 0,
              "ticks": ""
             }
            },
            "type": "histogram"
           }
          ],
          "histogram2d": [
           {
            "colorbar": {
             "outlinewidth": 0,
             "ticks": ""
            },
            "colorscale": [
             [
              0,
              "#0d0887"
             ],
             [
              0.1111111111111111,
              "#46039f"
             ],
             [
              0.2222222222222222,
              "#7201a8"
             ],
             [
              0.3333333333333333,
              "#9c179e"
             ],
             [
              0.4444444444444444,
              "#bd3786"
             ],
             [
              0.5555555555555556,
              "#d8576b"
             ],
             [
              0.6666666666666666,
              "#ed7953"
             ],
             [
              0.7777777777777778,
              "#fb9f3a"
             ],
             [
              0.8888888888888888,
              "#fdca26"
             ],
             [
              1,
              "#f0f921"
             ]
            ],
            "type": "histogram2d"
           }
          ],
          "histogram2dcontour": [
           {
            "colorbar": {
             "outlinewidth": 0,
             "ticks": ""
            },
            "colorscale": [
             [
              0,
              "#0d0887"
             ],
             [
              0.1111111111111111,
              "#46039f"
             ],
             [
              0.2222222222222222,
              "#7201a8"
             ],
             [
              0.3333333333333333,
              "#9c179e"
             ],
             [
              0.4444444444444444,
              "#bd3786"
             ],
             [
              0.5555555555555556,
              "#d8576b"
             ],
             [
              0.6666666666666666,
              "#ed7953"
             ],
             [
              0.7777777777777778,
              "#fb9f3a"
             ],
             [
              0.8888888888888888,
              "#fdca26"
             ],
             [
              1,
              "#f0f921"
             ]
            ],
            "type": "histogram2dcontour"
           }
          ],
          "mesh3d": [
           {
            "colorbar": {
             "outlinewidth": 0,
             "ticks": ""
            },
            "type": "mesh3d"
           }
          ],
          "parcoords": [
           {
            "line": {
             "colorbar": {
              "outlinewidth": 0,
              "ticks": ""
             }
            },
            "type": "parcoords"
           }
          ],
          "scatter": [
           {
            "marker": {
             "colorbar": {
              "outlinewidth": 0,
              "ticks": ""
             }
            },
            "type": "scatter"
           }
          ],
          "scatter3d": [
           {
            "line": {
             "colorbar": {
              "outlinewidth": 0,
              "ticks": ""
             }
            },
            "marker": {
             "colorbar": {
              "outlinewidth": 0,
              "ticks": ""
             }
            },
            "type": "scatter3d"
           }
          ],
          "scattercarpet": [
           {
            "marker": {
             "colorbar": {
              "outlinewidth": 0,
              "ticks": ""
             }
            },
            "type": "scattercarpet"
           }
          ],
          "scattergeo": [
           {
            "marker": {
             "colorbar": {
              "outlinewidth": 0,
              "ticks": ""
             }
            },
            "type": "scattergeo"
           }
          ],
          "scattergl": [
           {
            "marker": {
             "colorbar": {
              "outlinewidth": 0,
              "ticks": ""
             }
            },
            "type": "scattergl"
           }
          ],
          "scattermapbox": [
           {
            "marker": {
             "colorbar": {
              "outlinewidth": 0,
              "ticks": ""
             }
            },
            "type": "scattermapbox"
           }
          ],
          "scatterpolar": [
           {
            "marker": {
             "colorbar": {
              "outlinewidth": 0,
              "ticks": ""
             }
            },
            "type": "scatterpolar"
           }
          ],
          "scatterpolargl": [
           {
            "marker": {
             "colorbar": {
              "outlinewidth": 0,
              "ticks": ""
             }
            },
            "type": "scatterpolargl"
           }
          ],
          "scatterternary": [
           {
            "marker": {
             "colorbar": {
              "outlinewidth": 0,
              "ticks": ""
             }
            },
            "type": "scatterternary"
           }
          ],
          "surface": [
           {
            "colorbar": {
             "outlinewidth": 0,
             "ticks": ""
            },
            "colorscale": [
             [
              0,
              "#0d0887"
             ],
             [
              0.1111111111111111,
              "#46039f"
             ],
             [
              0.2222222222222222,
              "#7201a8"
             ],
             [
              0.3333333333333333,
              "#9c179e"
             ],
             [
              0.4444444444444444,
              "#bd3786"
             ],
             [
              0.5555555555555556,
              "#d8576b"
             ],
             [
              0.6666666666666666,
              "#ed7953"
             ],
             [
              0.7777777777777778,
              "#fb9f3a"
             ],
             [
              0.8888888888888888,
              "#fdca26"
             ],
             [
              1,
              "#f0f921"
             ]
            ],
            "type": "surface"
           }
          ],
          "table": [
           {
            "cells": {
             "fill": {
              "color": "#EBF0F8"
             },
             "line": {
              "color": "white"
             }
            },
            "header": {
             "fill": {
              "color": "#C8D4E3"
             },
             "line": {
              "color": "white"
             }
            },
            "type": "table"
           }
          ]
         },
         "layout": {
          "annotationdefaults": {
           "arrowcolor": "#2a3f5f",
           "arrowhead": 0,
           "arrowwidth": 1
          },
          "colorscale": {
           "diverging": [
            [
             0,
             "#8e0152"
            ],
            [
             0.1,
             "#c51b7d"
            ],
            [
             0.2,
             "#de77ae"
            ],
            [
             0.3,
             "#f1b6da"
            ],
            [
             0.4,
             "#fde0ef"
            ],
            [
             0.5,
             "#f7f7f7"
            ],
            [
             0.6,
             "#e6f5d0"
            ],
            [
             0.7,
             "#b8e186"
            ],
            [
             0.8,
             "#7fbc41"
            ],
            [
             0.9,
             "#4d9221"
            ],
            [
             1,
             "#276419"
            ]
           ],
           "sequential": [
            [
             0,
             "#0d0887"
            ],
            [
             0.1111111111111111,
             "#46039f"
            ],
            [
             0.2222222222222222,
             "#7201a8"
            ],
            [
             0.3333333333333333,
             "#9c179e"
            ],
            [
             0.4444444444444444,
             "#bd3786"
            ],
            [
             0.5555555555555556,
             "#d8576b"
            ],
            [
             0.6666666666666666,
             "#ed7953"
            ],
            [
             0.7777777777777778,
             "#fb9f3a"
            ],
            [
             0.8888888888888888,
             "#fdca26"
            ],
            [
             1,
             "#f0f921"
            ]
           ],
           "sequentialminus": [
            [
             0,
             "#0d0887"
            ],
            [
             0.1111111111111111,
             "#46039f"
            ],
            [
             0.2222222222222222,
             "#7201a8"
            ],
            [
             0.3333333333333333,
             "#9c179e"
            ],
            [
             0.4444444444444444,
             "#bd3786"
            ],
            [
             0.5555555555555556,
             "#d8576b"
            ],
            [
             0.6666666666666666,
             "#ed7953"
            ],
            [
             0.7777777777777778,
             "#fb9f3a"
            ],
            [
             0.8888888888888888,
             "#fdca26"
            ],
            [
             1,
             "#f0f921"
            ]
           ]
          },
          "colorway": [
           "#636efa",
           "#EF553B",
           "#00cc96",
           "#ab63fa",
           "#FFA15A",
           "#19d3f3",
           "#FF6692",
           "#B6E880",
           "#FF97FF",
           "#FECB52"
          ],
          "font": {
           "color": "#2a3f5f"
          },
          "geo": {
           "bgcolor": "white",
           "lakecolor": "white",
           "landcolor": "#E5ECF6",
           "showlakes": true,
           "showland": true,
           "subunitcolor": "white"
          },
          "hoverlabel": {
           "align": "left"
          },
          "hovermode": "closest",
          "mapbox": {
           "style": "light"
          },
          "paper_bgcolor": "white",
          "plot_bgcolor": "#E5ECF6",
          "polar": {
           "angularaxis": {
            "gridcolor": "white",
            "linecolor": "white",
            "ticks": ""
           },
           "bgcolor": "#E5ECF6",
           "radialaxis": {
            "gridcolor": "white",
            "linecolor": "white",
            "ticks": ""
           }
          },
          "scene": {
           "xaxis": {
            "backgroundcolor": "#E5ECF6",
            "gridcolor": "white",
            "gridwidth": 2,
            "linecolor": "white",
            "showbackground": true,
            "ticks": "",
            "zerolinecolor": "white"
           },
           "yaxis": {
            "backgroundcolor": "#E5ECF6",
            "gridcolor": "white",
            "gridwidth": 2,
            "linecolor": "white",
            "showbackground": true,
            "ticks": "",
            "zerolinecolor": "white"
           },
           "zaxis": {
            "backgroundcolor": "#E5ECF6",
            "gridcolor": "white",
            "gridwidth": 2,
            "linecolor": "white",
            "showbackground": true,
            "ticks": "",
            "zerolinecolor": "white"
           }
          },
          "shapedefaults": {
           "line": {
            "color": "#2a3f5f"
           }
          },
          "ternary": {
           "aaxis": {
            "gridcolor": "white",
            "linecolor": "white",
            "ticks": ""
           },
           "baxis": {
            "gridcolor": "white",
            "linecolor": "white",
            "ticks": ""
           },
           "bgcolor": "#E5ECF6",
           "caxis": {
            "gridcolor": "white",
            "linecolor": "white",
            "ticks": ""
           }
          },
          "title": {
           "x": 0.05
          },
          "xaxis": {
           "automargin": true,
           "gridcolor": "white",
           "linecolor": "white",
           "ticks": "",
           "zerolinecolor": "white",
           "zerolinewidth": 2
          },
          "yaxis": {
           "automargin": true,
           "gridcolor": "white",
           "linecolor": "white",
           "ticks": "",
           "zerolinecolor": "white",
           "zerolinewidth": 2
          }
         }
        },
        "xaxis": {
         "tickangle": -45
        }
       }
      },
      "text/html": [
       "<div>\n",
       "        \n",
       "        \n",
       "            <div id=\"735528ea-3b30-4d8f-b8fa-3ef3312d6cf0\" class=\"plotly-graph-div\" style=\"height:525px; width:100%;\"></div>\n",
       "            <script type=\"text/javascript\">\n",
       "                require([\"plotly\"], function(Plotly) {\n",
       "                    window.PLOTLYENV=window.PLOTLYENV || {};\n",
       "                    \n",
       "                if (document.getElementById(\"735528ea-3b30-4d8f-b8fa-3ef3312d6cf0\")) {\n",
       "                    Plotly.newPlot(\n",
       "                        '735528ea-3b30-4d8f-b8fa-3ef3312d6cf0',\n",
       "                        [{\"marker\": {\"color\": \"indianred\"}, \"name\": \"Mean Absolute Error\", \"type\": \"bar\", \"x\": [\"DesicionTree\", \"RandomForest\"], \"y\": [5031.79125715209, 4416.38844743828]}, {\"marker\": {\"color\": \"lightsalmon\"}, \"name\": \"Root Mean Squared Error\", \"type\": \"bar\", \"x\": [\"DesicionTree\", \"RandomForest\"], \"y\": [11680.51800714098, 9219.642342163452]}, {\"marker\": {\"color\": \"mediumslateblue\"}, \"name\": \"Mean Squared Error\", \"type\": \"bar\", \"x\": [\"DesicionTree\", \"RandomForest\"], \"y\": [13643.450091514469, 8500.180491741317]}, {\"marker\": {\"color\": \"darkslateblue\"}, \"name\": \"R Square\", \"type\": \"bar\", \"x\": [\"DesicionTree\", \"RandomForest\"], \"y\": [6200.809584637607, 7633.017745770982]}],\n",
       "                        {\"barmode\": \"group\", \"template\": {\"data\": {\"bar\": [{\"error_x\": {\"color\": \"#2a3f5f\"}, \"error_y\": {\"color\": \"#2a3f5f\"}, \"marker\": {\"line\": {\"color\": \"#E5ECF6\", \"width\": 0.5}}, \"type\": \"bar\"}], \"barpolar\": [{\"marker\": {\"line\": {\"color\": \"#E5ECF6\", \"width\": 0.5}}, \"type\": \"barpolar\"}], \"carpet\": [{\"aaxis\": {\"endlinecolor\": \"#2a3f5f\", \"gridcolor\": \"white\", \"linecolor\": \"white\", \"minorgridcolor\": \"white\", \"startlinecolor\": \"#2a3f5f\"}, \"baxis\": {\"endlinecolor\": \"#2a3f5f\", \"gridcolor\": \"white\", \"linecolor\": \"white\", \"minorgridcolor\": \"white\", \"startlinecolor\": \"#2a3f5f\"}, \"type\": \"carpet\"}], \"choropleth\": [{\"colorbar\": {\"outlinewidth\": 0, \"ticks\": \"\"}, \"type\": \"choropleth\"}], \"contour\": [{\"colorbar\": {\"outlinewidth\": 0, \"ticks\": \"\"}, \"colorscale\": [[0.0, \"#0d0887\"], [0.1111111111111111, \"#46039f\"], [0.2222222222222222, \"#7201a8\"], [0.3333333333333333, \"#9c179e\"], [0.4444444444444444, \"#bd3786\"], [0.5555555555555556, \"#d8576b\"], [0.6666666666666666, \"#ed7953\"], [0.7777777777777778, \"#fb9f3a\"], [0.8888888888888888, \"#fdca26\"], [1.0, \"#f0f921\"]], \"type\": \"contour\"}], \"contourcarpet\": [{\"colorbar\": {\"outlinewidth\": 0, \"ticks\": \"\"}, \"type\": \"contourcarpet\"}], \"heatmap\": [{\"colorbar\": {\"outlinewidth\": 0, \"ticks\": \"\"}, \"colorscale\": [[0.0, \"#0d0887\"], [0.1111111111111111, \"#46039f\"], [0.2222222222222222, \"#7201a8\"], [0.3333333333333333, \"#9c179e\"], [0.4444444444444444, \"#bd3786\"], [0.5555555555555556, \"#d8576b\"], [0.6666666666666666, \"#ed7953\"], [0.7777777777777778, \"#fb9f3a\"], [0.8888888888888888, \"#fdca26\"], [1.0, \"#f0f921\"]], \"type\": \"heatmap\"}], \"heatmapgl\": [{\"colorbar\": {\"outlinewidth\": 0, \"ticks\": \"\"}, \"colorscale\": [[0.0, \"#0d0887\"], [0.1111111111111111, \"#46039f\"], [0.2222222222222222, \"#7201a8\"], [0.3333333333333333, \"#9c179e\"], [0.4444444444444444, \"#bd3786\"], [0.5555555555555556, \"#d8576b\"], [0.6666666666666666, \"#ed7953\"], [0.7777777777777778, \"#fb9f3a\"], [0.8888888888888888, \"#fdca26\"], [1.0, \"#f0f921\"]], \"type\": \"heatmapgl\"}], \"histogram\": [{\"marker\": {\"colorbar\": {\"outlinewidth\": 0, \"ticks\": \"\"}}, \"type\": \"histogram\"}], \"histogram2d\": [{\"colorbar\": {\"outlinewidth\": 0, \"ticks\": \"\"}, \"colorscale\": [[0.0, \"#0d0887\"], [0.1111111111111111, \"#46039f\"], [0.2222222222222222, \"#7201a8\"], [0.3333333333333333, \"#9c179e\"], [0.4444444444444444, \"#bd3786\"], [0.5555555555555556, \"#d8576b\"], [0.6666666666666666, \"#ed7953\"], [0.7777777777777778, \"#fb9f3a\"], [0.8888888888888888, \"#fdca26\"], [1.0, \"#f0f921\"]], \"type\": \"histogram2d\"}], \"histogram2dcontour\": [{\"colorbar\": {\"outlinewidth\": 0, \"ticks\": \"\"}, \"colorscale\": [[0.0, \"#0d0887\"], [0.1111111111111111, \"#46039f\"], [0.2222222222222222, \"#7201a8\"], [0.3333333333333333, \"#9c179e\"], [0.4444444444444444, \"#bd3786\"], [0.5555555555555556, \"#d8576b\"], [0.6666666666666666, \"#ed7953\"], [0.7777777777777778, \"#fb9f3a\"], [0.8888888888888888, \"#fdca26\"], [1.0, \"#f0f921\"]], \"type\": \"histogram2dcontour\"}], \"mesh3d\": [{\"colorbar\": {\"outlinewidth\": 0, \"ticks\": \"\"}, \"type\": \"mesh3d\"}], \"parcoords\": [{\"line\": {\"colorbar\": {\"outlinewidth\": 0, \"ticks\": \"\"}}, \"type\": \"parcoords\"}], \"scatter\": [{\"marker\": {\"colorbar\": {\"outlinewidth\": 0, \"ticks\": \"\"}}, \"type\": \"scatter\"}], \"scatter3d\": [{\"line\": {\"colorbar\": {\"outlinewidth\": 0, \"ticks\": \"\"}}, \"marker\": {\"colorbar\": {\"outlinewidth\": 0, \"ticks\": \"\"}}, \"type\": \"scatter3d\"}], \"scattercarpet\": [{\"marker\": {\"colorbar\": {\"outlinewidth\": 0, \"ticks\": \"\"}}, \"type\": \"scattercarpet\"}], \"scattergeo\": [{\"marker\": {\"colorbar\": {\"outlinewidth\": 0, \"ticks\": \"\"}}, \"type\": \"scattergeo\"}], \"scattergl\": [{\"marker\": {\"colorbar\": {\"outlinewidth\": 0, \"ticks\": \"\"}}, \"type\": \"scattergl\"}], \"scattermapbox\": [{\"marker\": {\"colorbar\": {\"outlinewidth\": 0, \"ticks\": \"\"}}, \"type\": \"scattermapbox\"}], \"scatterpolar\": [{\"marker\": {\"colorbar\": {\"outlinewidth\": 0, \"ticks\": \"\"}}, \"type\": \"scatterpolar\"}], \"scatterpolargl\": [{\"marker\": {\"colorbar\": {\"outlinewidth\": 0, \"ticks\": \"\"}}, \"type\": \"scatterpolargl\"}], \"scatterternary\": [{\"marker\": {\"colorbar\": {\"outlinewidth\": 0, \"ticks\": \"\"}}, \"type\": \"scatterternary\"}], \"surface\": [{\"colorbar\": {\"outlinewidth\": 0, \"ticks\": \"\"}, \"colorscale\": [[0.0, \"#0d0887\"], [0.1111111111111111, \"#46039f\"], [0.2222222222222222, \"#7201a8\"], [0.3333333333333333, \"#9c179e\"], [0.4444444444444444, \"#bd3786\"], [0.5555555555555556, \"#d8576b\"], [0.6666666666666666, \"#ed7953\"], [0.7777777777777778, \"#fb9f3a\"], [0.8888888888888888, \"#fdca26\"], [1.0, \"#f0f921\"]], \"type\": \"surface\"}], \"table\": [{\"cells\": {\"fill\": {\"color\": \"#EBF0F8\"}, \"line\": {\"color\": \"white\"}}, \"header\": {\"fill\": {\"color\": \"#C8D4E3\"}, \"line\": {\"color\": \"white\"}}, \"type\": \"table\"}]}, \"layout\": {\"annotationdefaults\": {\"arrowcolor\": \"#2a3f5f\", \"arrowhead\": 0, \"arrowwidth\": 1}, \"colorscale\": {\"diverging\": [[0, \"#8e0152\"], [0.1, \"#c51b7d\"], [0.2, \"#de77ae\"], [0.3, \"#f1b6da\"], [0.4, \"#fde0ef\"], [0.5, \"#f7f7f7\"], [0.6, \"#e6f5d0\"], [0.7, \"#b8e186\"], [0.8, \"#7fbc41\"], [0.9, \"#4d9221\"], [1, \"#276419\"]], \"sequential\": [[0.0, \"#0d0887\"], [0.1111111111111111, \"#46039f\"], [0.2222222222222222, \"#7201a8\"], [0.3333333333333333, \"#9c179e\"], [0.4444444444444444, \"#bd3786\"], [0.5555555555555556, \"#d8576b\"], [0.6666666666666666, \"#ed7953\"], [0.7777777777777778, \"#fb9f3a\"], [0.8888888888888888, \"#fdca26\"], [1.0, \"#f0f921\"]], \"sequentialminus\": [[0.0, \"#0d0887\"], [0.1111111111111111, \"#46039f\"], [0.2222222222222222, \"#7201a8\"], [0.3333333333333333, \"#9c179e\"], [0.4444444444444444, \"#bd3786\"], [0.5555555555555556, \"#d8576b\"], [0.6666666666666666, \"#ed7953\"], [0.7777777777777778, \"#fb9f3a\"], [0.8888888888888888, \"#fdca26\"], [1.0, \"#f0f921\"]]}, \"colorway\": [\"#636efa\", \"#EF553B\", \"#00cc96\", \"#ab63fa\", \"#FFA15A\", \"#19d3f3\", \"#FF6692\", \"#B6E880\", \"#FF97FF\", \"#FECB52\"], \"font\": {\"color\": \"#2a3f5f\"}, \"geo\": {\"bgcolor\": \"white\", \"lakecolor\": \"white\", \"landcolor\": \"#E5ECF6\", \"showlakes\": true, \"showland\": true, \"subunitcolor\": \"white\"}, \"hoverlabel\": {\"align\": \"left\"}, \"hovermode\": \"closest\", \"mapbox\": {\"style\": \"light\"}, \"paper_bgcolor\": \"white\", \"plot_bgcolor\": \"#E5ECF6\", \"polar\": {\"angularaxis\": {\"gridcolor\": \"white\", \"linecolor\": \"white\", \"ticks\": \"\"}, \"bgcolor\": \"#E5ECF6\", \"radialaxis\": {\"gridcolor\": \"white\", \"linecolor\": \"white\", \"ticks\": \"\"}}, \"scene\": {\"xaxis\": {\"backgroundcolor\": \"#E5ECF6\", \"gridcolor\": \"white\", \"gridwidth\": 2, \"linecolor\": \"white\", \"showbackground\": true, \"ticks\": \"\", \"zerolinecolor\": \"white\"}, \"yaxis\": {\"backgroundcolor\": \"#E5ECF6\", \"gridcolor\": \"white\", \"gridwidth\": 2, \"linecolor\": \"white\", \"showbackground\": true, \"ticks\": \"\", \"zerolinecolor\": \"white\"}, \"zaxis\": {\"backgroundcolor\": \"#E5ECF6\", \"gridcolor\": \"white\", \"gridwidth\": 2, \"linecolor\": \"white\", \"showbackground\": true, \"ticks\": \"\", \"zerolinecolor\": \"white\"}}, \"shapedefaults\": {\"line\": {\"color\": \"#2a3f5f\"}}, \"ternary\": {\"aaxis\": {\"gridcolor\": \"white\", \"linecolor\": \"white\", \"ticks\": \"\"}, \"baxis\": {\"gridcolor\": \"white\", \"linecolor\": \"white\", \"ticks\": \"\"}, \"bgcolor\": \"#E5ECF6\", \"caxis\": {\"gridcolor\": \"white\", \"linecolor\": \"white\", \"ticks\": \"\"}}, \"title\": {\"x\": 0.05}, \"xaxis\": {\"automargin\": true, \"gridcolor\": \"white\", \"linecolor\": \"white\", \"ticks\": \"\", \"zerolinecolor\": \"white\", \"zerolinewidth\": 2}, \"yaxis\": {\"automargin\": true, \"gridcolor\": \"white\", \"linecolor\": \"white\", \"ticks\": \"\", \"zerolinecolor\": \"white\", \"zerolinewidth\": 2}}}, \"xaxis\": {\"tickangle\": -45}},\n",
       "                        {\"responsive\": true}\n",
       "                    ).then(function(){\n",
       "                            \n",
       "var gd = document.getElementById('735528ea-3b30-4d8f-b8fa-3ef3312d6cf0');\n",
       "var x = new MutationObserver(function (mutations, observer) {{\n",
       "        var display = window.getComputedStyle(gd).display;\n",
       "        if (!display || display === 'none') {{\n",
       "            console.log([gd, 'removed!']);\n",
       "            Plotly.purge(gd);\n",
       "            observer.disconnect();\n",
       "        }}\n",
       "}});\n",
       "\n",
       "// Listen for the removal of the full notebook cells\n",
       "var notebookContainer = gd.closest('#notebook-container');\n",
       "if (notebookContainer) {{\n",
       "    x.observe(notebookContainer, {childList: true});\n",
       "}}\n",
       "\n",
       "// Listen for the clearing of the current output cell\n",
       "var outputEl = gd.closest('.output');\n",
       "if (outputEl) {{\n",
       "    x.observe(outputEl, {childList: true});\n",
       "}}\n",
       "\n",
       "                        })\n",
       "                };\n",
       "                });\n",
       "            </script>\n",
       "        </div>"
      ]
     },
     "metadata": {},
     "output_type": "display_data"
    }
   ],
   "source": [
    "model_name = ['DesicionTree', 'RandomForest']\n",
    "\n",
    "fig = go.Figure()\n",
    "fig.add_trace(go.Bar(\n",
    "    x=model_name,\n",
    "    y=results.iloc[0,1:],\n",
    "    name='Mean Absolute Error',\n",
    "    marker_color='indianred'\n",
    "))\n",
    "fig.add_trace(go.Bar(\n",
    "    x=model_name,\n",
    "    y=results.iloc[1,1:],\n",
    "    name='Root Mean Squared Error',\n",
    "    marker_color='lightsalmon'\n",
    "))\n",
    "fig.add_trace(go.Bar(\n",
    "    x=model_name,\n",
    "    y=results.iloc[2,1:],\n",
    "    name='Mean Squared Error',\n",
    "    marker_color='mediumslateblue'\n",
    "))\n",
    "fig.add_trace(go.Bar(\n",
    "    x=model_name,\n",
    "    y=results.iloc[3,1:],\n",
    "    name='R Square',\n",
    "    marker_color='darkslateblue'\n",
    "))\n",
    "\n",
    "# Here we modify the tickangle of the xaxis, resulting in rotated labels.\n",
    "fig.layout.update(barmode='group', xaxis_tickangle=-45)\n",
    "\n",
    "show_image = None\n",
    "if export_flag:\n",
    "    chart_studio.plotly.image.save_as(fig, filename='comparison-plot.png')\n",
    "    show_image = Image('comparison-plot.png')\n",
    "else:\n",
    "    fig.show()\n",
    "\n",
    "show_image"
   ]
  },
  {
   "cell_type": "markdown",
   "metadata": {
    "_uuid": "4f0336d718982a22d7c6e9575f641564d1d1dde9"
   },
   "source": [
    "# Conclusion\n",
    "\n",
    "* Los features seleccionados fueron tratados para eliminar todos los datos nulos.\n",
    "* Los features seleccionados fueron tratados para transformar con valores validos.\n",
    "* Los features los features claves fueron **el Peso, el modo de envio y el pais destino**.\n",
    "* Se eligieron los algoritmos de Arbol de Desición y Random Forest para la predicción del precio de envio, donde el mejor resultado fue obtenido por el Random Forest."
   ]
  }
 ],
 "metadata": {
  "kernelspec": {
   "display_name": "Python 3",
   "language": "python",
   "name": "python3"
  },
  "language_info": {
   "codemirror_mode": {
    "name": "ipython",
    "version": 3
   },
   "file_extension": ".py",
   "mimetype": "text/x-python",
   "name": "python",
   "nbconvert_exporter": "python",
   "pygments_lexer": "ipython3",
   "version": "3.7.4"
  }
 },
 "nbformat": 4,
 "nbformat_minor": 1
}
